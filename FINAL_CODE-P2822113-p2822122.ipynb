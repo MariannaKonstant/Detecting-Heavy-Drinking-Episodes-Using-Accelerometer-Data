{
 "cells": [
  {
   "cell_type": "markdown",
   "id": "0c307ea3",
   "metadata": {},
   "source": [
    "# Machine Learning and Content Analytics - AUEB\n",
    "\n",
    "## Detecting Heavy Drinking Episodes Using Accelerometer Data\n",
    "\n",
    "* Konstantopoulou Marianna | p2822122\n",
    "* Zafeiropoulou Maria | p2822113"
   ]
  },
  {
   "cell_type": "markdown",
   "id": "286f3bdb",
   "metadata": {},
   "source": [
    "## 1. Data Preprocessing"
   ]
  },
  {
   "cell_type": "markdown",
   "id": "faa9b39f",
   "metadata": {},
   "source": [
    "### Import Modules"
   ]
  },
  {
   "cell_type": "code",
   "execution_count": null,
   "id": "4aa04d67",
   "metadata": {},
   "outputs": [],
   "source": [
    "#pip install tensorflow"
   ]
  },
  {
   "cell_type": "code",
   "execution_count": 1,
   "id": "52098c4d",
   "metadata": {},
   "outputs": [],
   "source": [
    "import csv\n",
    "import numpy as np \n",
    "import pandas as pd\n",
    "import statistics\n",
    "import tensorflow as tf\n",
    "from tensorflow import keras\n",
    "from tensorflow.keras import Sequential\n",
    "from tensorflow.keras.optimizers import Adam\n",
    "import matplotlib.pyplot as plt\n",
    "from sklearn.model_selection import train_test_split\n",
    "from sklearn.preprocessing import StandardScaler, LabelEncoder\n",
    "from tensorflow.keras.layers import Conv1D, MaxPooling1D\n",
    "from tensorflow.keras.layers import Flatten, Dense, Dropout\n",
    "import scipy.stats as stats\n",
    "from sklearn.metrics import classification_report, confusion_matrix\n",
    "import seaborn as sns\n",
    "from tensorflow.keras import layers"
   ]
  },
  {
   "cell_type": "markdown",
   "id": "afccd998",
   "metadata": {},
   "source": [
    "### Load Accelerometer Dataset"
   ]
  },
  {
   "cell_type": "code",
   "execution_count": 2,
   "id": "42867ea0",
   "metadata": {},
   "outputs": [
    {
     "name": "stdout",
     "output_type": "stream",
     "text": [
      "SA0297.csv created\n",
      "MC7070.csv created\n",
      "JB3156.csv created\n",
      "BK7610.csv created\n",
      "PC6771.csv created\n",
      "DC6359.csv created\n",
      "JR8022.csv created\n",
      "DK3500.csv created\n",
      "HV0618.csv created\n",
      "SF3079.csv created\n",
      "CC6740.csv created\n",
      "BU4707.csv created\n",
      "MJ8002.csv created\n"
     ]
    },
    {
     "data": {
      "text/html": [
       "<div>\n",
       "<style scoped>\n",
       "    .dataframe tbody tr th:only-of-type {\n",
       "        vertical-align: middle;\n",
       "    }\n",
       "\n",
       "    .dataframe tbody tr th {\n",
       "        vertical-align: top;\n",
       "    }\n",
       "\n",
       "    .dataframe thead th {\n",
       "        text-align: right;\n",
       "    }\n",
       "</style>\n",
       "<table border=\"1\" class=\"dataframe\">\n",
       "  <thead>\n",
       "    <tr style=\"text-align: right;\">\n",
       "      <th></th>\n",
       "      <th>time</th>\n",
       "      <th>pid</th>\n",
       "      <th>x</th>\n",
       "      <th>y</th>\n",
       "      <th>z</th>\n",
       "    </tr>\n",
       "  </thead>\n",
       "  <tbody>\n",
       "    <tr>\n",
       "      <th>0</th>\n",
       "      <td>1493736949591</td>\n",
       "      <td>MJ8002</td>\n",
       "      <td>0.0025</td>\n",
       "      <td>0.0043</td>\n",
       "      <td>-0.0027</td>\n",
       "    </tr>\n",
       "    <tr>\n",
       "      <th>1</th>\n",
       "      <td>1493736949616</td>\n",
       "      <td>MJ8002</td>\n",
       "      <td>-0.0003</td>\n",
       "      <td>-0.0013</td>\n",
       "      <td>-0.0051</td>\n",
       "    </tr>\n",
       "    <tr>\n",
       "      <th>2</th>\n",
       "      <td>1493736949641</td>\n",
       "      <td>MJ8002</td>\n",
       "      <td>0.0022</td>\n",
       "      <td>0.0014</td>\n",
       "      <td>-0.0027</td>\n",
       "    </tr>\n",
       "    <tr>\n",
       "      <th>3</th>\n",
       "      <td>1493736949665</td>\n",
       "      <td>MJ8002</td>\n",
       "      <td>0.0006</td>\n",
       "      <td>-0.0010</td>\n",
       "      <td>-0.0047</td>\n",
       "    </tr>\n",
       "    <tr>\n",
       "      <th>4</th>\n",
       "      <td>1493736949691</td>\n",
       "      <td>MJ8002</td>\n",
       "      <td>0.0009</td>\n",
       "      <td>-0.0005</td>\n",
       "      <td>-0.0055</td>\n",
       "    </tr>\n",
       "  </tbody>\n",
       "</table>\n",
       "</div>"
      ],
      "text/plain": [
       "            time     pid       x       y       z\n",
       "0  1493736949591  MJ8002  0.0025  0.0043 -0.0027\n",
       "1  1493736949616  MJ8002 -0.0003 -0.0013 -0.0051\n",
       "2  1493736949641  MJ8002  0.0022  0.0014 -0.0027\n",
       "3  1493736949665  MJ8002  0.0006 -0.0010 -0.0047\n",
       "4  1493736949691  MJ8002  0.0009 -0.0005 -0.0055"
      ]
     },
     "execution_count": 2,
     "metadata": {},
     "output_type": "execute_result"
    }
   ],
   "source": [
    "# Load The full Dataset\n",
    "acc_data = pd.read_csv(\"all_accelerometer_data_pids_13.csv\")\n",
    "\n",
    "pid = list(set(acc_data['pid']))\n",
    "\n",
    "# Create a .csv for every different \"pid\" code\n",
    "for i in pid:\n",
    "    df = acc_data.loc[acc_data['pid'] == i]\n",
    "    df.to_csv(i, encoding='utf-8')\n",
    "    print(str(i)+\".csv created\")\n",
    "    \n",
    "# Load Accelerometer Data .csv file for the choosen pid\n",
    "acc_data = pd.read_csv(\"MJ8002\" ) \n",
    "\n",
    "# Transform to Dataframe\n",
    "acc_data = pd.DataFrame(acc_data)\n",
    "acc_data.drop(\"Unnamed: 0\", axis=1, inplace=True)\n",
    "acc_data.head()"
   ]
  },
  {
   "cell_type": "markdown",
   "id": "68abbc87",
   "metadata": {},
   "source": [
    "Add a column with seconds in the Accelerometer Dataset"
   ]
  },
  {
   "cell_type": "code",
   "execution_count": 3,
   "id": "fb19a53e",
   "metadata": {},
   "outputs": [
    {
     "data": {
      "text/html": [
       "<div>\n",
       "<style scoped>\n",
       "    .dataframe tbody tr th:only-of-type {\n",
       "        vertical-align: middle;\n",
       "    }\n",
       "\n",
       "    .dataframe tbody tr th {\n",
       "        vertical-align: top;\n",
       "    }\n",
       "\n",
       "    .dataframe thead th {\n",
       "        text-align: right;\n",
       "    }\n",
       "</style>\n",
       "<table border=\"1\" class=\"dataframe\">\n",
       "  <thead>\n",
       "    <tr style=\"text-align: right;\">\n",
       "      <th></th>\n",
       "      <th>time</th>\n",
       "      <th>pid</th>\n",
       "      <th>x</th>\n",
       "      <th>y</th>\n",
       "      <th>z</th>\n",
       "      <th>time_seconds</th>\n",
       "    </tr>\n",
       "  </thead>\n",
       "  <tbody>\n",
       "    <tr>\n",
       "      <th>0</th>\n",
       "      <td>1493736949591</td>\n",
       "      <td>MJ8002</td>\n",
       "      <td>0.0025</td>\n",
       "      <td>0.0043</td>\n",
       "      <td>-0.0027</td>\n",
       "      <td>1493736949</td>\n",
       "    </tr>\n",
       "    <tr>\n",
       "      <th>1</th>\n",
       "      <td>1493736949616</td>\n",
       "      <td>MJ8002</td>\n",
       "      <td>-0.0003</td>\n",
       "      <td>-0.0013</td>\n",
       "      <td>-0.0051</td>\n",
       "      <td>1493736949</td>\n",
       "    </tr>\n",
       "    <tr>\n",
       "      <th>2</th>\n",
       "      <td>1493736949641</td>\n",
       "      <td>MJ8002</td>\n",
       "      <td>0.0022</td>\n",
       "      <td>0.0014</td>\n",
       "      <td>-0.0027</td>\n",
       "      <td>1493736949</td>\n",
       "    </tr>\n",
       "    <tr>\n",
       "      <th>3</th>\n",
       "      <td>1493736949665</td>\n",
       "      <td>MJ8002</td>\n",
       "      <td>0.0006</td>\n",
       "      <td>-0.0010</td>\n",
       "      <td>-0.0047</td>\n",
       "      <td>1493736949</td>\n",
       "    </tr>\n",
       "    <tr>\n",
       "      <th>4</th>\n",
       "      <td>1493736949691</td>\n",
       "      <td>MJ8002</td>\n",
       "      <td>0.0009</td>\n",
       "      <td>-0.0005</td>\n",
       "      <td>-0.0055</td>\n",
       "      <td>1493736949</td>\n",
       "    </tr>\n",
       "  </tbody>\n",
       "</table>\n",
       "</div>"
      ],
      "text/plain": [
       "            time     pid       x       y       z  time_seconds\n",
       "0  1493736949591  MJ8002  0.0025  0.0043 -0.0027    1493736949\n",
       "1  1493736949616  MJ8002 -0.0003 -0.0013 -0.0051    1493736949\n",
       "2  1493736949641  MJ8002  0.0022  0.0014 -0.0027    1493736949\n",
       "3  1493736949665  MJ8002  0.0006 -0.0010 -0.0047    1493736949\n",
       "4  1493736949691  MJ8002  0.0009 -0.0005 -0.0055    1493736949"
      ]
     },
     "execution_count": 3,
     "metadata": {},
     "output_type": "execute_result"
    }
   ],
   "source": [
    "# \"seconds\" Function transforms milliseconds to seconds\n",
    "def seconds(time):\n",
    "    s = (time/1000) \n",
    "    return int(s)\n",
    "\n",
    "# Add a column with seconds to the Accelerometer Dataset\n",
    "acc_data['time_seconds'] = acc_data['time'].apply(seconds)\n",
    "acc_data.head()"
   ]
  },
  {
   "cell_type": "markdown",
   "id": "034e19b6",
   "metadata": {},
   "source": [
    "### Load TAC Dataset"
   ]
  },
  {
   "cell_type": "code",
   "execution_count": 4,
   "id": "92b2b12d",
   "metadata": {},
   "outputs": [
    {
     "data": {
      "text/html": [
       "<div>\n",
       "<style scoped>\n",
       "    .dataframe tbody tr th:only-of-type {\n",
       "        vertical-align: middle;\n",
       "    }\n",
       "\n",
       "    .dataframe tbody tr th {\n",
       "        vertical-align: top;\n",
       "    }\n",
       "\n",
       "    .dataframe thead th {\n",
       "        text-align: right;\n",
       "    }\n",
       "</style>\n",
       "<table border=\"1\" class=\"dataframe\">\n",
       "  <thead>\n",
       "    <tr style=\"text-align: right;\">\n",
       "      <th></th>\n",
       "      <th>timestamp</th>\n",
       "      <th>TAC_Reading</th>\n",
       "    </tr>\n",
       "  </thead>\n",
       "  <tbody>\n",
       "    <tr>\n",
       "      <th>0</th>\n",
       "      <td>1493720054</td>\n",
       "      <td>-0.001385</td>\n",
       "    </tr>\n",
       "    <tr>\n",
       "      <th>1</th>\n",
       "      <td>1493721878</td>\n",
       "      <td>0.000864</td>\n",
       "    </tr>\n",
       "    <tr>\n",
       "      <th>2</th>\n",
       "      <td>1493722199</td>\n",
       "      <td>0.001913</td>\n",
       "    </tr>\n",
       "    <tr>\n",
       "      <th>3</th>\n",
       "      <td>1493722520</td>\n",
       "      <td>0.001333</td>\n",
       "    </tr>\n",
       "    <tr>\n",
       "      <th>4</th>\n",
       "      <td>1493722842</td>\n",
       "      <td>-0.000256</td>\n",
       "    </tr>\n",
       "  </tbody>\n",
       "</table>\n",
       "</div>"
      ],
      "text/plain": [
       "    timestamp  TAC_Reading\n",
       "0  1493720054    -0.001385\n",
       "1  1493721878     0.000864\n",
       "2  1493722199     0.001913\n",
       "3  1493722520     0.001333\n",
       "4  1493722842    -0.000256"
      ]
     },
     "execution_count": 4,
     "metadata": {},
     "output_type": "execute_result"
    }
   ],
   "source": [
    "# Load Tac Data .csv file for the choosen \"pid\"\n",
    "tac_data = pd.read_csv('MJ8002_clean_TAC.csv')\n",
    "\n",
    "# Transform to Dataframe\n",
    "tac_data = pd.DataFrame(tac_data)\n",
    "tac_data.head()"
   ]
  },
  {
   "cell_type": "markdown",
   "id": "9196c8bf",
   "metadata": {},
   "source": [
    "### Combine the two datasets (Accelerometer & TAC)"
   ]
  },
  {
   "cell_type": "code",
   "execution_count": 5,
   "id": "ba800c3a",
   "metadata": {},
   "outputs": [],
   "source": [
    "# Columns of the combined dataset\n",
    "dataset = pd.DataFrame(columns=['pid', 'tac_start', 'tac_end', 'tac', \n",
    "                                  'acc_time', 'x', 'y', 'z', 'acc_seconds'])"
   ]
  },
  {
   "cell_type": "code",
   "execution_count": 6,
   "id": "1562fdb5",
   "metadata": {},
   "outputs": [],
   "source": [
    "tac_timestamp = tac_data['timestamp'].to_list() \n",
    "tac_reading = tac_data['TAC_Reading'].to_list() "
   ]
  },
  {
   "cell_type": "code",
   "execution_count": 7,
   "id": "ef1eb73b",
   "metadata": {},
   "outputs": [
    {
     "data": {
      "text/html": [
       "<div>\n",
       "<style scoped>\n",
       "    .dataframe tbody tr th:only-of-type {\n",
       "        vertical-align: middle;\n",
       "    }\n",
       "\n",
       "    .dataframe tbody tr th {\n",
       "        vertical-align: top;\n",
       "    }\n",
       "\n",
       "    .dataframe thead th {\n",
       "        text-align: right;\n",
       "    }\n",
       "</style>\n",
       "<table border=\"1\" class=\"dataframe\">\n",
       "  <thead>\n",
       "    <tr style=\"text-align: right;\">\n",
       "      <th></th>\n",
       "      <th>pid</th>\n",
       "      <th>tac_start</th>\n",
       "      <th>tac_end</th>\n",
       "      <th>tac</th>\n",
       "      <th>acc_time</th>\n",
       "      <th>x</th>\n",
       "      <th>y</th>\n",
       "      <th>z</th>\n",
       "      <th>acc_seconds</th>\n",
       "    </tr>\n",
       "  </thead>\n",
       "  <tbody>\n",
       "    <tr>\n",
       "      <th>0</th>\n",
       "      <td>MJ8002</td>\n",
       "      <td>1493736009</td>\n",
       "      <td>1493736009</td>\n",
       "      <td>0.00115</td>\n",
       "      <td>1493736949591</td>\n",
       "      <td>0.0025</td>\n",
       "      <td>0.0043</td>\n",
       "      <td>-0.0027</td>\n",
       "      <td>1493736949</td>\n",
       "    </tr>\n",
       "    <tr>\n",
       "      <th>1</th>\n",
       "      <td>MJ8002</td>\n",
       "      <td>1493736009</td>\n",
       "      <td>1493736009</td>\n",
       "      <td>0.00115</td>\n",
       "      <td>1493736949616</td>\n",
       "      <td>-0.0003</td>\n",
       "      <td>-0.0013</td>\n",
       "      <td>-0.0051</td>\n",
       "      <td>1493736949</td>\n",
       "    </tr>\n",
       "    <tr>\n",
       "      <th>2</th>\n",
       "      <td>MJ8002</td>\n",
       "      <td>1493736009</td>\n",
       "      <td>1493736009</td>\n",
       "      <td>0.00115</td>\n",
       "      <td>1493736949641</td>\n",
       "      <td>0.0022</td>\n",
       "      <td>0.0014</td>\n",
       "      <td>-0.0027</td>\n",
       "      <td>1493736949</td>\n",
       "    </tr>\n",
       "    <tr>\n",
       "      <th>3</th>\n",
       "      <td>MJ8002</td>\n",
       "      <td>1493736009</td>\n",
       "      <td>1493736009</td>\n",
       "      <td>0.00115</td>\n",
       "      <td>1493736949665</td>\n",
       "      <td>0.0006</td>\n",
       "      <td>-0.001</td>\n",
       "      <td>-0.0047</td>\n",
       "      <td>1493736949</td>\n",
       "    </tr>\n",
       "    <tr>\n",
       "      <th>4</th>\n",
       "      <td>MJ8002</td>\n",
       "      <td>1493736009</td>\n",
       "      <td>1493736009</td>\n",
       "      <td>0.00115</td>\n",
       "      <td>1493736949691</td>\n",
       "      <td>0.0009</td>\n",
       "      <td>-0.0005</td>\n",
       "      <td>-0.0055</td>\n",
       "      <td>1493736949</td>\n",
       "    </tr>\n",
       "    <tr>\n",
       "      <th>...</th>\n",
       "      <td>...</td>\n",
       "      <td>...</td>\n",
       "      <td>...</td>\n",
       "      <td>...</td>\n",
       "      <td>...</td>\n",
       "      <td>...</td>\n",
       "      <td>...</td>\n",
       "      <td>...</td>\n",
       "      <td>...</td>\n",
       "    </tr>\n",
       "    <tr>\n",
       "      <th>631298</th>\n",
       "      <td>MJ8002</td>\n",
       "      <td>1493783820</td>\n",
       "      <td>1493783820</td>\n",
       "      <td>0.040976</td>\n",
       "      <td>1493784951889</td>\n",
       "      <td>0.0011</td>\n",
       "      <td>0.0023</td>\n",
       "      <td>-0.0045</td>\n",
       "      <td>1493784951</td>\n",
       "    </tr>\n",
       "    <tr>\n",
       "      <th>631299</th>\n",
       "      <td>MJ8002</td>\n",
       "      <td>1493783820</td>\n",
       "      <td>1493783820</td>\n",
       "      <td>0.040976</td>\n",
       "      <td>1493784951911</td>\n",
       "      <td>0.0001</td>\n",
       "      <td>-0.0015</td>\n",
       "      <td>-0.0053</td>\n",
       "      <td>1493784951</td>\n",
       "    </tr>\n",
       "    <tr>\n",
       "      <th>631300</th>\n",
       "      <td>MJ8002</td>\n",
       "      <td>1493783820</td>\n",
       "      <td>1493783820</td>\n",
       "      <td>0.040976</td>\n",
       "      <td>1493784951935</td>\n",
       "      <td>0.0</td>\n",
       "      <td>-0.0015</td>\n",
       "      <td>-0.0046</td>\n",
       "      <td>1493784951</td>\n",
       "    </tr>\n",
       "    <tr>\n",
       "      <th>631301</th>\n",
       "      <td>MJ8002</td>\n",
       "      <td>1493783820</td>\n",
       "      <td>1493783820</td>\n",
       "      <td>0.040976</td>\n",
       "      <td>1493784951961</td>\n",
       "      <td>0.0014</td>\n",
       "      <td>-0.0026</td>\n",
       "      <td>-0.0044</td>\n",
       "      <td>1493784951</td>\n",
       "    </tr>\n",
       "    <tr>\n",
       "      <th>631302</th>\n",
       "      <td>MJ8002</td>\n",
       "      <td>1493783820</td>\n",
       "      <td>1493783820</td>\n",
       "      <td>0.040976</td>\n",
       "      <td>1493784951985</td>\n",
       "      <td>-0.0012</td>\n",
       "      <td>-0.0008</td>\n",
       "      <td>-0.0047</td>\n",
       "      <td>1493784951</td>\n",
       "    </tr>\n",
       "  </tbody>\n",
       "</table>\n",
       "<p>630983 rows × 9 columns</p>\n",
       "</div>"
      ],
      "text/plain": [
       "           pid   tac_start     tac_end       tac       acc_time       x  \\\n",
       "0       MJ8002  1493736009  1493736009   0.00115  1493736949591  0.0025   \n",
       "1       MJ8002  1493736009  1493736009   0.00115  1493736949616 -0.0003   \n",
       "2       MJ8002  1493736009  1493736009   0.00115  1493736949641  0.0022   \n",
       "3       MJ8002  1493736009  1493736009   0.00115  1493736949665  0.0006   \n",
       "4       MJ8002  1493736009  1493736009   0.00115  1493736949691  0.0009   \n",
       "...        ...         ...         ...       ...            ...     ...   \n",
       "631298  MJ8002  1493783820  1493783820  0.040976  1493784951889  0.0011   \n",
       "631299  MJ8002  1493783820  1493783820  0.040976  1493784951911  0.0001   \n",
       "631300  MJ8002  1493783820  1493783820  0.040976  1493784951935     0.0   \n",
       "631301  MJ8002  1493783820  1493783820  0.040976  1493784951961  0.0014   \n",
       "631302  MJ8002  1493783820  1493783820  0.040976  1493784951985 -0.0012   \n",
       "\n",
       "             y       z acc_seconds  \n",
       "0       0.0043 -0.0027  1493736949  \n",
       "1      -0.0013 -0.0051  1493736949  \n",
       "2       0.0014 -0.0027  1493736949  \n",
       "3       -0.001 -0.0047  1493736949  \n",
       "4      -0.0005 -0.0055  1493736949  \n",
       "...        ...     ...         ...  \n",
       "631298  0.0023 -0.0045  1493784951  \n",
       "631299 -0.0015 -0.0053  1493784951  \n",
       "631300 -0.0015 -0.0046  1493784951  \n",
       "631301 -0.0026 -0.0044  1493784951  \n",
       "631302 -0.0008 -0.0047  1493784951  \n",
       "\n",
       "[630983 rows x 9 columns]"
      ]
     },
     "execution_count": 7,
     "metadata": {},
     "output_type": "execute_result"
    }
   ],
   "source": [
    "# Combine the two dataframes based on tac time intervals \n",
    "\n",
    "x = (len(tac_timestamp) - 1)\n",
    "\n",
    "for j in range(0, x):\n",
    "    \n",
    "    start = tac_timestamp[j] # ex. 1493720054 | 1rst row\n",
    "    end = tac_timestamp[j+1] # ex. 1493721878 | 2nd row\n",
    "    \n",
    "    try:\n",
    "        # check if timestamp value exists in start-end range and \n",
    "        # use \"cr\" value for sublisting \n",
    "        cr = acc_data['time_seconds'].between(start, end, inclusive='neither')\n",
    "        cr.to_list().index(True)\n",
    "        acc_data2 = acc_data\n",
    "        acc_data2['includes'] = cr\n",
    "        acc_data2 = acc_data2.loc[acc_data2['includes'] == True]\n",
    "\n",
    "        acc_data2 = acc_data2.assign(tac_start_2 = start)\n",
    "        acc_data2 = acc_data2.assign(tac_end_2 = end)\n",
    "        acc_data2 = acc_data2.assign(tac = tac_reading[j])\n",
    "        \n",
    "        # Create the combined dataset\n",
    "        data2 = pd.DataFrame()\n",
    "        data2['pid'] = acc_data2['pid']\n",
    "        data2['tac_start'] = acc_data2['tac_start_2']\n",
    "        data2['tac_end'] = acc_data2['tac_start_2']\n",
    "        data2['tac'] = acc_data2['tac']\n",
    "        data2['acc_time'] = acc_data2['time']\n",
    "        data2['x'] = acc_data2['x']\n",
    "        data2['y'] = acc_data2['y']\n",
    "        data2['z'] = acc_data2['z']\n",
    "        data2['acc_seconds'] = acc_data2['time'].apply(seconds)\n",
    "        \n",
    "        dataset = pd.concat(objs=[dataset, data2])\n",
    "\n",
    "    except:\n",
    "        pass\n",
    "    \n",
    "dataset"
   ]
  },
  {
   "cell_type": "markdown",
   "id": "295d6d44",
   "metadata": {},
   "source": [
    "### Make some further dataset transformations"
   ]
  },
  {
   "cell_type": "markdown",
   "id": "cee91d82",
   "metadata": {},
   "source": [
    "Classify - Change the \"tac\" values based on threshold (0.08)"
   ]
  },
  {
   "cell_type": "code",
   "execution_count": 8,
   "id": "730b673a",
   "metadata": {},
   "outputs": [
    {
     "data": {
      "text/html": [
       "<div>\n",
       "<style scoped>\n",
       "    .dataframe tbody tr th:only-of-type {\n",
       "        vertical-align: middle;\n",
       "    }\n",
       "\n",
       "    .dataframe tbody tr th {\n",
       "        vertical-align: top;\n",
       "    }\n",
       "\n",
       "    .dataframe thead th {\n",
       "        text-align: right;\n",
       "    }\n",
       "</style>\n",
       "<table border=\"1\" class=\"dataframe\">\n",
       "  <thead>\n",
       "    <tr style=\"text-align: right;\">\n",
       "      <th></th>\n",
       "      <th>pid</th>\n",
       "      <th>tac_start</th>\n",
       "      <th>tac_end</th>\n",
       "      <th>tac</th>\n",
       "      <th>acc_time</th>\n",
       "      <th>x</th>\n",
       "      <th>y</th>\n",
       "      <th>z</th>\n",
       "      <th>acc_seconds</th>\n",
       "    </tr>\n",
       "  </thead>\n",
       "  <tbody>\n",
       "    <tr>\n",
       "      <th>0</th>\n",
       "      <td>MJ8002</td>\n",
       "      <td>1493736009</td>\n",
       "      <td>1493736009</td>\n",
       "      <td>0</td>\n",
       "      <td>1493736949591</td>\n",
       "      <td>0.0025</td>\n",
       "      <td>0.0043</td>\n",
       "      <td>-0.0027</td>\n",
       "      <td>1493736949</td>\n",
       "    </tr>\n",
       "    <tr>\n",
       "      <th>1</th>\n",
       "      <td>MJ8002</td>\n",
       "      <td>1493736009</td>\n",
       "      <td>1493736009</td>\n",
       "      <td>0</td>\n",
       "      <td>1493736949616</td>\n",
       "      <td>-0.0003</td>\n",
       "      <td>-0.0013</td>\n",
       "      <td>-0.0051</td>\n",
       "      <td>1493736949</td>\n",
       "    </tr>\n",
       "    <tr>\n",
       "      <th>2</th>\n",
       "      <td>MJ8002</td>\n",
       "      <td>1493736009</td>\n",
       "      <td>1493736009</td>\n",
       "      <td>0</td>\n",
       "      <td>1493736949641</td>\n",
       "      <td>0.0022</td>\n",
       "      <td>0.0014</td>\n",
       "      <td>-0.0027</td>\n",
       "      <td>1493736949</td>\n",
       "    </tr>\n",
       "    <tr>\n",
       "      <th>3</th>\n",
       "      <td>MJ8002</td>\n",
       "      <td>1493736009</td>\n",
       "      <td>1493736009</td>\n",
       "      <td>0</td>\n",
       "      <td>1493736949665</td>\n",
       "      <td>0.0006</td>\n",
       "      <td>-0.001</td>\n",
       "      <td>-0.0047</td>\n",
       "      <td>1493736949</td>\n",
       "    </tr>\n",
       "    <tr>\n",
       "      <th>4</th>\n",
       "      <td>MJ8002</td>\n",
       "      <td>1493736009</td>\n",
       "      <td>1493736009</td>\n",
       "      <td>0</td>\n",
       "      <td>1493736949691</td>\n",
       "      <td>0.0009</td>\n",
       "      <td>-0.0005</td>\n",
       "      <td>-0.0055</td>\n",
       "      <td>1493736949</td>\n",
       "    </tr>\n",
       "  </tbody>\n",
       "</table>\n",
       "</div>"
      ],
      "text/plain": [
       "      pid   tac_start     tac_end  tac       acc_time       x       y       z  \\\n",
       "0  MJ8002  1493736009  1493736009    0  1493736949591  0.0025  0.0043 -0.0027   \n",
       "1  MJ8002  1493736009  1493736009    0  1493736949616 -0.0003 -0.0013 -0.0051   \n",
       "2  MJ8002  1493736009  1493736009    0  1493736949641  0.0022  0.0014 -0.0027   \n",
       "3  MJ8002  1493736009  1493736009    0  1493736949665  0.0006  -0.001 -0.0047   \n",
       "4  MJ8002  1493736009  1493736009    0  1493736949691  0.0009 -0.0005 -0.0055   \n",
       "\n",
       "  acc_seconds  \n",
       "0  1493736949  \n",
       "1  1493736949  \n",
       "2  1493736949  \n",
       "3  1493736949  \n",
       "4  1493736949  "
      ]
     },
     "execution_count": 8,
     "metadata": {},
     "output_type": "execute_result"
    }
   ],
   "source": [
    "# Function \"threshold\" used for classification based on 0.08 theshold value\n",
    "def threshold(d):\n",
    "    # tac value below 0.08 not drunk\n",
    "    if d < 0.08: \n",
    "        return 0\n",
    "    else:\n",
    "    # else drunk\n",
    "        return 1\n",
    "    \n",
    "# \"tac\" classification using \"theshold\" function\n",
    "dataset['tac'] = dataset['tac'].apply(threshold)\n",
    "dataset.head()"
   ]
  },
  {
   "cell_type": "markdown",
   "id": "e1cabdad",
   "metadata": {},
   "source": [
    "Pick only the 20 first instances of accelerometer readings of every second"
   ]
  },
  {
   "cell_type": "code",
   "execution_count": 9,
   "id": "85b4ea34",
   "metadata": {},
   "outputs": [],
   "source": [
    "# Find unique acceleromete seconds\n",
    "uniq = dataset['acc_seconds'].unique()"
   ]
  },
  {
   "cell_type": "code",
   "execution_count": 10,
   "id": "6414730b",
   "metadata": {},
   "outputs": [],
   "source": [
    "vc = dataset['acc_seconds'].value_counts()"
   ]
  },
  {
   "cell_type": "code",
   "execution_count": 11,
   "id": "c61a9e45",
   "metadata": {},
   "outputs": [
    {
     "data": {
      "text/plain": [
       "(1, 42)"
      ]
     },
     "execution_count": 11,
     "metadata": {},
     "output_type": "execute_result"
    }
   ],
   "source": [
    "min(vc), max(vc)"
   ]
  },
  {
   "cell_type": "code",
   "execution_count": 12,
   "id": "16261c87",
   "metadata": {},
   "outputs": [],
   "source": [
    "dataset1 = pd.DataFrame(columns=['pid', 'tac_start', 'tac_end', 'tac', \n",
    "                                  'acc_time', 'x', 'y', 'z', 'acc_seconds'])"
   ]
  },
  {
   "cell_type": "code",
   "execution_count": 13,
   "id": "c1c4ecee",
   "metadata": {},
   "outputs": [
    {
     "data": {
      "text/html": [
       "<div>\n",
       "<style scoped>\n",
       "    .dataframe tbody tr th:only-of-type {\n",
       "        vertical-align: middle;\n",
       "    }\n",
       "\n",
       "    .dataframe tbody tr th {\n",
       "        vertical-align: top;\n",
       "    }\n",
       "\n",
       "    .dataframe thead th {\n",
       "        text-align: right;\n",
       "    }\n",
       "</style>\n",
       "<table border=\"1\" class=\"dataframe\">\n",
       "  <thead>\n",
       "    <tr style=\"text-align: right;\">\n",
       "      <th></th>\n",
       "      <th>pid</th>\n",
       "      <th>tac_start</th>\n",
       "      <th>tac_end</th>\n",
       "      <th>tac</th>\n",
       "      <th>acc_time</th>\n",
       "      <th>x</th>\n",
       "      <th>y</th>\n",
       "      <th>z</th>\n",
       "      <th>acc_seconds</th>\n",
       "    </tr>\n",
       "  </thead>\n",
       "  <tbody>\n",
       "    <tr>\n",
       "      <th>0</th>\n",
       "      <td>MJ8002</td>\n",
       "      <td>1493736009</td>\n",
       "      <td>1493736009</td>\n",
       "      <td>0</td>\n",
       "      <td>1493736949591</td>\n",
       "      <td>0.0025</td>\n",
       "      <td>0.0043</td>\n",
       "      <td>-0.0027</td>\n",
       "      <td>1493736949</td>\n",
       "    </tr>\n",
       "    <tr>\n",
       "      <th>1</th>\n",
       "      <td>MJ8002</td>\n",
       "      <td>1493736009</td>\n",
       "      <td>1493736009</td>\n",
       "      <td>0</td>\n",
       "      <td>1493736949616</td>\n",
       "      <td>-0.0003</td>\n",
       "      <td>-0.0013</td>\n",
       "      <td>-0.0051</td>\n",
       "      <td>1493736949</td>\n",
       "    </tr>\n",
       "    <tr>\n",
       "      <th>2</th>\n",
       "      <td>MJ8002</td>\n",
       "      <td>1493736009</td>\n",
       "      <td>1493736009</td>\n",
       "      <td>0</td>\n",
       "      <td>1493736949641</td>\n",
       "      <td>0.0022</td>\n",
       "      <td>0.0014</td>\n",
       "      <td>-0.0027</td>\n",
       "      <td>1493736949</td>\n",
       "    </tr>\n",
       "    <tr>\n",
       "      <th>3</th>\n",
       "      <td>MJ8002</td>\n",
       "      <td>1493736009</td>\n",
       "      <td>1493736009</td>\n",
       "      <td>0</td>\n",
       "      <td>1493736949665</td>\n",
       "      <td>0.0006</td>\n",
       "      <td>-0.001</td>\n",
       "      <td>-0.0047</td>\n",
       "      <td>1493736949</td>\n",
       "    </tr>\n",
       "    <tr>\n",
       "      <th>4</th>\n",
       "      <td>MJ8002</td>\n",
       "      <td>1493736009</td>\n",
       "      <td>1493736009</td>\n",
       "      <td>0</td>\n",
       "      <td>1493736949691</td>\n",
       "      <td>0.0009</td>\n",
       "      <td>-0.0005</td>\n",
       "      <td>-0.0055</td>\n",
       "      <td>1493736949</td>\n",
       "    </tr>\n",
       "    <tr>\n",
       "      <th>...</th>\n",
       "      <td>...</td>\n",
       "      <td>...</td>\n",
       "      <td>...</td>\n",
       "      <td>...</td>\n",
       "      <td>...</td>\n",
       "      <td>...</td>\n",
       "      <td>...</td>\n",
       "      <td>...</td>\n",
       "      <td>...</td>\n",
       "    </tr>\n",
       "    <tr>\n",
       "      <th>631278</th>\n",
       "      <td>MJ8002</td>\n",
       "      <td>1493783820</td>\n",
       "      <td>1493783820</td>\n",
       "      <td>0</td>\n",
       "      <td>1493784951385</td>\n",
       "      <td>0.0011</td>\n",
       "      <td>0.0003</td>\n",
       "      <td>-0.0037</td>\n",
       "      <td>1493784951</td>\n",
       "    </tr>\n",
       "    <tr>\n",
       "      <th>631279</th>\n",
       "      <td>MJ8002</td>\n",
       "      <td>1493783820</td>\n",
       "      <td>1493783820</td>\n",
       "      <td>0</td>\n",
       "      <td>1493784951411</td>\n",
       "      <td>-0.0024</td>\n",
       "      <td>-0.0013</td>\n",
       "      <td>-0.0062</td>\n",
       "      <td>1493784951</td>\n",
       "    </tr>\n",
       "    <tr>\n",
       "      <th>631280</th>\n",
       "      <td>MJ8002</td>\n",
       "      <td>1493783820</td>\n",
       "      <td>1493783820</td>\n",
       "      <td>0</td>\n",
       "      <td>1493784951436</td>\n",
       "      <td>0.0</td>\n",
       "      <td>-0.0016</td>\n",
       "      <td>-0.0048</td>\n",
       "      <td>1493784951</td>\n",
       "    </tr>\n",
       "    <tr>\n",
       "      <th>631281</th>\n",
       "      <td>MJ8002</td>\n",
       "      <td>1493783820</td>\n",
       "      <td>1493783820</td>\n",
       "      <td>0</td>\n",
       "      <td>1493784951462</td>\n",
       "      <td>0.0</td>\n",
       "      <td>-0.0008</td>\n",
       "      <td>-0.0041</td>\n",
       "      <td>1493784951</td>\n",
       "    </tr>\n",
       "    <tr>\n",
       "      <th>631282</th>\n",
       "      <td>MJ8002</td>\n",
       "      <td>1493783820</td>\n",
       "      <td>1493783820</td>\n",
       "      <td>0</td>\n",
       "      <td>1493784951486</td>\n",
       "      <td>0.0001</td>\n",
       "      <td>0.0004</td>\n",
       "      <td>-0.0052</td>\n",
       "      <td>1493784951</td>\n",
       "    </tr>\n",
       "  </tbody>\n",
       "</table>\n",
       "<p>315691 rows × 9 columns</p>\n",
       "</div>"
      ],
      "text/plain": [
       "           pid   tac_start     tac_end tac       acc_time       x       y  \\\n",
       "0       MJ8002  1493736009  1493736009   0  1493736949591  0.0025  0.0043   \n",
       "1       MJ8002  1493736009  1493736009   0  1493736949616 -0.0003 -0.0013   \n",
       "2       MJ8002  1493736009  1493736009   0  1493736949641  0.0022  0.0014   \n",
       "3       MJ8002  1493736009  1493736009   0  1493736949665  0.0006  -0.001   \n",
       "4       MJ8002  1493736009  1493736009   0  1493736949691  0.0009 -0.0005   \n",
       "...        ...         ...         ...  ..            ...     ...     ...   \n",
       "631278  MJ8002  1493783820  1493783820   0  1493784951385  0.0011  0.0003   \n",
       "631279  MJ8002  1493783820  1493783820   0  1493784951411 -0.0024 -0.0013   \n",
       "631280  MJ8002  1493783820  1493783820   0  1493784951436     0.0 -0.0016   \n",
       "631281  MJ8002  1493783820  1493783820   0  1493784951462     0.0 -0.0008   \n",
       "631282  MJ8002  1493783820  1493783820   0  1493784951486  0.0001  0.0004   \n",
       "\n",
       "             z acc_seconds  \n",
       "0      -0.0027  1493736949  \n",
       "1      -0.0051  1493736949  \n",
       "2      -0.0027  1493736949  \n",
       "3      -0.0047  1493736949  \n",
       "4      -0.0055  1493736949  \n",
       "...        ...         ...  \n",
       "631278 -0.0037  1493784951  \n",
       "631279 -0.0062  1493784951  \n",
       "631280 -0.0048  1493784951  \n",
       "631281 -0.0041  1493784951  \n",
       "631282 -0.0052  1493784951  \n",
       "\n",
       "[315691 rows x 9 columns]"
      ]
     },
     "execution_count": 13,
     "metadata": {},
     "output_type": "execute_result"
    }
   ],
   "source": [
    "for i in uniq:\n",
    "    p = dataset.loc[dataset['acc_seconds'] == i]\n",
    "    # pick 20 first accelerometer second instances\n",
    "    inc = p.head(20) \n",
    "    dataset1 = pd.concat(objs=[dataset1, inc])\n",
    "    \n",
    "dataset1"
   ]
  },
  {
   "cell_type": "markdown",
   "id": "955639cd",
   "metadata": {},
   "source": [
    "Create a copy of the Dataset and drop unwanted columns"
   ]
  },
  {
   "cell_type": "code",
   "execution_count": 14,
   "id": "95c523cc",
   "metadata": {},
   "outputs": [
    {
     "data": {
      "text/html": [
       "<div>\n",
       "<style scoped>\n",
       "    .dataframe tbody tr th:only-of-type {\n",
       "        vertical-align: middle;\n",
       "    }\n",
       "\n",
       "    .dataframe tbody tr th {\n",
       "        vertical-align: top;\n",
       "    }\n",
       "\n",
       "    .dataframe thead th {\n",
       "        text-align: right;\n",
       "    }\n",
       "</style>\n",
       "<table border=\"1\" class=\"dataframe\">\n",
       "  <thead>\n",
       "    <tr style=\"text-align: right;\">\n",
       "      <th></th>\n",
       "      <th>pid</th>\n",
       "      <th>tac_start</th>\n",
       "      <th>tac_end</th>\n",
       "      <th>tac</th>\n",
       "      <th>acc_time</th>\n",
       "      <th>x</th>\n",
       "      <th>y</th>\n",
       "      <th>z</th>\n",
       "      <th>acc_seconds</th>\n",
       "    </tr>\n",
       "  </thead>\n",
       "  <tbody>\n",
       "    <tr>\n",
       "      <th>0</th>\n",
       "      <td>MJ8002</td>\n",
       "      <td>1493736009</td>\n",
       "      <td>1493736009</td>\n",
       "      <td>0</td>\n",
       "      <td>1493736949591</td>\n",
       "      <td>0.0025</td>\n",
       "      <td>0.0043</td>\n",
       "      <td>-0.0027</td>\n",
       "      <td>1493736949</td>\n",
       "    </tr>\n",
       "    <tr>\n",
       "      <th>1</th>\n",
       "      <td>MJ8002</td>\n",
       "      <td>1493736009</td>\n",
       "      <td>1493736009</td>\n",
       "      <td>0</td>\n",
       "      <td>1493736949616</td>\n",
       "      <td>-0.0003</td>\n",
       "      <td>-0.0013</td>\n",
       "      <td>-0.0051</td>\n",
       "      <td>1493736949</td>\n",
       "    </tr>\n",
       "    <tr>\n",
       "      <th>2</th>\n",
       "      <td>MJ8002</td>\n",
       "      <td>1493736009</td>\n",
       "      <td>1493736009</td>\n",
       "      <td>0</td>\n",
       "      <td>1493736949641</td>\n",
       "      <td>0.0022</td>\n",
       "      <td>0.0014</td>\n",
       "      <td>-0.0027</td>\n",
       "      <td>1493736949</td>\n",
       "    </tr>\n",
       "    <tr>\n",
       "      <th>3</th>\n",
       "      <td>MJ8002</td>\n",
       "      <td>1493736009</td>\n",
       "      <td>1493736009</td>\n",
       "      <td>0</td>\n",
       "      <td>1493736949665</td>\n",
       "      <td>0.0006</td>\n",
       "      <td>-0.001</td>\n",
       "      <td>-0.0047</td>\n",
       "      <td>1493736949</td>\n",
       "    </tr>\n",
       "    <tr>\n",
       "      <th>4</th>\n",
       "      <td>MJ8002</td>\n",
       "      <td>1493736009</td>\n",
       "      <td>1493736009</td>\n",
       "      <td>0</td>\n",
       "      <td>1493736949691</td>\n",
       "      <td>0.0009</td>\n",
       "      <td>-0.0005</td>\n",
       "      <td>-0.0055</td>\n",
       "      <td>1493736949</td>\n",
       "    </tr>\n",
       "  </tbody>\n",
       "</table>\n",
       "</div>"
      ],
      "text/plain": [
       "      pid   tac_start     tac_end tac       acc_time       x       y       z  \\\n",
       "0  MJ8002  1493736009  1493736009   0  1493736949591  0.0025  0.0043 -0.0027   \n",
       "1  MJ8002  1493736009  1493736009   0  1493736949616 -0.0003 -0.0013 -0.0051   \n",
       "2  MJ8002  1493736009  1493736009   0  1493736949641  0.0022  0.0014 -0.0027   \n",
       "3  MJ8002  1493736009  1493736009   0  1493736949665  0.0006  -0.001 -0.0047   \n",
       "4  MJ8002  1493736009  1493736009   0  1493736949691  0.0009 -0.0005 -0.0055   \n",
       "\n",
       "  acc_seconds  \n",
       "0  1493736949  \n",
       "1  1493736949  \n",
       "2  1493736949  \n",
       "3  1493736949  \n",
       "4  1493736949  "
      ]
     },
     "execution_count": 14,
     "metadata": {},
     "output_type": "execute_result"
    }
   ],
   "source": [
    "dataset_copy = dataset1.copy()\n",
    "dataset_copy = pd.DataFrame(dataset_copy)\n",
    "dataset_copy.head()"
   ]
  },
  {
   "cell_type": "code",
   "execution_count": 15,
   "id": "44e45d8f",
   "metadata": {},
   "outputs": [
    {
     "data": {
      "text/html": [
       "<div>\n",
       "<style scoped>\n",
       "    .dataframe tbody tr th:only-of-type {\n",
       "        vertical-align: middle;\n",
       "    }\n",
       "\n",
       "    .dataframe tbody tr th {\n",
       "        vertical-align: top;\n",
       "    }\n",
       "\n",
       "    .dataframe thead th {\n",
       "        text-align: right;\n",
       "    }\n",
       "</style>\n",
       "<table border=\"1\" class=\"dataframe\">\n",
       "  <thead>\n",
       "    <tr style=\"text-align: right;\">\n",
       "      <th></th>\n",
       "      <th>tac</th>\n",
       "      <th>acc_time</th>\n",
       "      <th>x</th>\n",
       "      <th>y</th>\n",
       "      <th>z</th>\n",
       "    </tr>\n",
       "  </thead>\n",
       "  <tbody>\n",
       "    <tr>\n",
       "      <th>0</th>\n",
       "      <td>0</td>\n",
       "      <td>1493736949591</td>\n",
       "      <td>0.0025</td>\n",
       "      <td>0.0043</td>\n",
       "      <td>-0.0027</td>\n",
       "    </tr>\n",
       "    <tr>\n",
       "      <th>1</th>\n",
       "      <td>0</td>\n",
       "      <td>1493736949616</td>\n",
       "      <td>-0.0003</td>\n",
       "      <td>-0.0013</td>\n",
       "      <td>-0.0051</td>\n",
       "    </tr>\n",
       "    <tr>\n",
       "      <th>2</th>\n",
       "      <td>0</td>\n",
       "      <td>1493736949641</td>\n",
       "      <td>0.0022</td>\n",
       "      <td>0.0014</td>\n",
       "      <td>-0.0027</td>\n",
       "    </tr>\n",
       "    <tr>\n",
       "      <th>3</th>\n",
       "      <td>0</td>\n",
       "      <td>1493736949665</td>\n",
       "      <td>0.0006</td>\n",
       "      <td>-0.001</td>\n",
       "      <td>-0.0047</td>\n",
       "    </tr>\n",
       "    <tr>\n",
       "      <th>4</th>\n",
       "      <td>0</td>\n",
       "      <td>1493736949691</td>\n",
       "      <td>0.0009</td>\n",
       "      <td>-0.0005</td>\n",
       "      <td>-0.0055</td>\n",
       "    </tr>\n",
       "  </tbody>\n",
       "</table>\n",
       "</div>"
      ],
      "text/plain": [
       "  tac       acc_time       x       y       z\n",
       "0   0  1493736949591  0.0025  0.0043 -0.0027\n",
       "1   0  1493736949616 -0.0003 -0.0013 -0.0051\n",
       "2   0  1493736949641  0.0022  0.0014 -0.0027\n",
       "3   0  1493736949665  0.0006  -0.001 -0.0047\n",
       "4   0  1493736949691  0.0009 -0.0005 -0.0055"
      ]
     },
     "execution_count": 15,
     "metadata": {},
     "output_type": "execute_result"
    }
   ],
   "source": [
    "dataset1.drop(\"pid\", axis=1, inplace=True)\n",
    "dataset1.drop(\"tac_start\", axis=1, inplace=True)\n",
    "dataset1.drop(\"tac_end\", axis=1, inplace=True)\n",
    "dataset1.drop(\"acc_seconds\", axis=1, inplace=True)\n",
    "\n",
    "dataset1.head()"
   ]
  },
  {
   "cell_type": "markdown",
   "id": "86d90082",
   "metadata": {},
   "source": [
    "Classify to Drunk and not Drunk, keep the same number of rows and finally combine the two dataframes"
   ]
  },
  {
   "cell_type": "code",
   "execution_count": 16,
   "id": "ec52a37b",
   "metadata": {},
   "outputs": [
    {
     "data": {
      "text/html": [
       "<div>\n",
       "<style scoped>\n",
       "    .dataframe tbody tr th:only-of-type {\n",
       "        vertical-align: middle;\n",
       "    }\n",
       "\n",
       "    .dataframe tbody tr th {\n",
       "        vertical-align: top;\n",
       "    }\n",
       "\n",
       "    .dataframe thead th {\n",
       "        text-align: right;\n",
       "    }\n",
       "</style>\n",
       "<table border=\"1\" class=\"dataframe\">\n",
       "  <thead>\n",
       "    <tr style=\"text-align: right;\">\n",
       "      <th></th>\n",
       "      <th>tac</th>\n",
       "      <th>acc_time</th>\n",
       "      <th>x</th>\n",
       "      <th>y</th>\n",
       "      <th>z</th>\n",
       "    </tr>\n",
       "  </thead>\n",
       "  <tbody>\n",
       "    <tr>\n",
       "      <th>150650</th>\n",
       "      <td>1</td>\n",
       "      <td>1493746992001</td>\n",
       "      <td>-0.0008</td>\n",
       "      <td>-0.0004</td>\n",
       "      <td>-0.0028</td>\n",
       "    </tr>\n",
       "    <tr>\n",
       "      <th>150651</th>\n",
       "      <td>1</td>\n",
       "      <td>1493746992027</td>\n",
       "      <td>0.0017</td>\n",
       "      <td>-0.0005</td>\n",
       "      <td>-0.003</td>\n",
       "    </tr>\n",
       "    <tr>\n",
       "      <th>150652</th>\n",
       "      <td>1</td>\n",
       "      <td>1493746992052</td>\n",
       "      <td>-0.0011</td>\n",
       "      <td>-0.0001</td>\n",
       "      <td>-0.0021</td>\n",
       "    </tr>\n",
       "    <tr>\n",
       "      <th>150653</th>\n",
       "      <td>1</td>\n",
       "      <td>1493746992077</td>\n",
       "      <td>-0.0001</td>\n",
       "      <td>-0.0004</td>\n",
       "      <td>-0.0019</td>\n",
       "    </tr>\n",
       "    <tr>\n",
       "      <th>150654</th>\n",
       "      <td>1</td>\n",
       "      <td>1493746992107</td>\n",
       "      <td>0.0017</td>\n",
       "      <td>0.0011</td>\n",
       "      <td>-0.0043</td>\n",
       "    </tr>\n",
       "  </tbody>\n",
       "</table>\n",
       "</div>"
      ],
      "text/plain": [
       "       tac       acc_time       x       y       z\n",
       "150650   1  1493746992001 -0.0008 -0.0004 -0.0028\n",
       "150651   1  1493746992027  0.0017 -0.0005  -0.003\n",
       "150652   1  1493746992052 -0.0011 -0.0001 -0.0021\n",
       "150653   1  1493746992077 -0.0001 -0.0004 -0.0019\n",
       "150654   1  1493746992107  0.0017  0.0011 -0.0043"
      ]
     },
     "execution_count": 16,
     "metadata": {},
     "output_type": "execute_result"
    }
   ],
   "source": [
    "dr = dataset1.loc[dataset1['tac'] == 1]\n",
    "dr.head()"
   ]
  },
  {
   "cell_type": "code",
   "execution_count": 17,
   "id": "684b3037",
   "metadata": {},
   "outputs": [
    {
     "data": {
      "text/html": [
       "<div>\n",
       "<style scoped>\n",
       "    .dataframe tbody tr th:only-of-type {\n",
       "        vertical-align: middle;\n",
       "    }\n",
       "\n",
       "    .dataframe tbody tr th {\n",
       "        vertical-align: top;\n",
       "    }\n",
       "\n",
       "    .dataframe thead th {\n",
       "        text-align: right;\n",
       "    }\n",
       "</style>\n",
       "<table border=\"1\" class=\"dataframe\">\n",
       "  <thead>\n",
       "    <tr style=\"text-align: right;\">\n",
       "      <th></th>\n",
       "      <th>tac</th>\n",
       "      <th>acc_time</th>\n",
       "      <th>x</th>\n",
       "      <th>y</th>\n",
       "      <th>z</th>\n",
       "    </tr>\n",
       "  </thead>\n",
       "  <tbody>\n",
       "    <tr>\n",
       "      <th>0</th>\n",
       "      <td>0</td>\n",
       "      <td>1493736949591</td>\n",
       "      <td>0.0025</td>\n",
       "      <td>0.0043</td>\n",
       "      <td>-0.0027</td>\n",
       "    </tr>\n",
       "    <tr>\n",
       "      <th>1</th>\n",
       "      <td>0</td>\n",
       "      <td>1493736949616</td>\n",
       "      <td>-0.0003</td>\n",
       "      <td>-0.0013</td>\n",
       "      <td>-0.0051</td>\n",
       "    </tr>\n",
       "    <tr>\n",
       "      <th>2</th>\n",
       "      <td>0</td>\n",
       "      <td>1493736949641</td>\n",
       "      <td>0.0022</td>\n",
       "      <td>0.0014</td>\n",
       "      <td>-0.0027</td>\n",
       "    </tr>\n",
       "    <tr>\n",
       "      <th>3</th>\n",
       "      <td>0</td>\n",
       "      <td>1493736949665</td>\n",
       "      <td>0.0006</td>\n",
       "      <td>-0.001</td>\n",
       "      <td>-0.0047</td>\n",
       "    </tr>\n",
       "    <tr>\n",
       "      <th>4</th>\n",
       "      <td>0</td>\n",
       "      <td>1493736949691</td>\n",
       "      <td>0.0009</td>\n",
       "      <td>-0.0005</td>\n",
       "      <td>-0.0055</td>\n",
       "    </tr>\n",
       "  </tbody>\n",
       "</table>\n",
       "</div>"
      ],
      "text/plain": [
       "  tac       acc_time       x       y       z\n",
       "0   0  1493736949591  0.0025  0.0043 -0.0027\n",
       "1   0  1493736949616 -0.0003 -0.0013 -0.0051\n",
       "2   0  1493736949641  0.0022  0.0014 -0.0027\n",
       "3   0  1493736949665  0.0006  -0.001 -0.0047\n",
       "4   0  1493736949691  0.0009 -0.0005 -0.0055"
      ]
     },
     "execution_count": 17,
     "metadata": {},
     "output_type": "execute_result"
    }
   ],
   "source": [
    "n_dr = dataset1.loc[dataset1['tac'] == 0]\n",
    "n_dr.head()"
   ]
  },
  {
   "cell_type": "code",
   "execution_count": 18,
   "id": "0da6f5b6",
   "metadata": {},
   "outputs": [
    {
     "data": {
      "text/plain": [
       "((96392, 5), (219299, 5))"
      ]
     },
     "execution_count": 18,
     "metadata": {},
     "output_type": "execute_result"
    }
   ],
   "source": [
    "dr.shape, n_dr.shape"
   ]
  },
  {
   "cell_type": "code",
   "execution_count": 19,
   "id": "1d57c5b0",
   "metadata": {},
   "outputs": [],
   "source": [
    "# find the min size of the two dataframes to reshape accordingly\n",
    "min_size = min(len(dr.index), len(n_dr.index)) \n",
    "dr = dr.head(min_size)\n",
    "n_dr = n_dr.head(min_size)"
   ]
  },
  {
   "cell_type": "code",
   "execution_count": 20,
   "id": "6e243a9a",
   "metadata": {},
   "outputs": [
    {
     "data": {
      "text/plain": [
       "True"
      ]
     },
     "execution_count": 20,
     "metadata": {},
     "output_type": "execute_result"
    }
   ],
   "source": [
    "dr.shape == n_dr.shape"
   ]
  },
  {
   "cell_type": "code",
   "execution_count": 21,
   "id": "72d7204f",
   "metadata": {},
   "outputs": [
    {
     "data": {
      "text/html": [
       "<div>\n",
       "<style scoped>\n",
       "    .dataframe tbody tr th:only-of-type {\n",
       "        vertical-align: middle;\n",
       "    }\n",
       "\n",
       "    .dataframe tbody tr th {\n",
       "        vertical-align: top;\n",
       "    }\n",
       "\n",
       "    .dataframe thead th {\n",
       "        text-align: right;\n",
       "    }\n",
       "</style>\n",
       "<table border=\"1\" class=\"dataframe\">\n",
       "  <thead>\n",
       "    <tr style=\"text-align: right;\">\n",
       "      <th></th>\n",
       "      <th>tac</th>\n",
       "      <th>acc_time</th>\n",
       "      <th>x</th>\n",
       "      <th>y</th>\n",
       "      <th>z</th>\n",
       "    </tr>\n",
       "  </thead>\n",
       "  <tbody>\n",
       "    <tr>\n",
       "      <th>0</th>\n",
       "      <td>0</td>\n",
       "      <td>1493736949591</td>\n",
       "      <td>0.0025</td>\n",
       "      <td>0.0043</td>\n",
       "      <td>-0.0027</td>\n",
       "    </tr>\n",
       "    <tr>\n",
       "      <th>1</th>\n",
       "      <td>0</td>\n",
       "      <td>1493736949616</td>\n",
       "      <td>-0.0003</td>\n",
       "      <td>-0.0013</td>\n",
       "      <td>-0.0051</td>\n",
       "    </tr>\n",
       "    <tr>\n",
       "      <th>2</th>\n",
       "      <td>0</td>\n",
       "      <td>1493736949641</td>\n",
       "      <td>0.0022</td>\n",
       "      <td>0.0014</td>\n",
       "      <td>-0.0027</td>\n",
       "    </tr>\n",
       "    <tr>\n",
       "      <th>3</th>\n",
       "      <td>0</td>\n",
       "      <td>1493736949665</td>\n",
       "      <td>0.0006</td>\n",
       "      <td>-0.001</td>\n",
       "      <td>-0.0047</td>\n",
       "    </tr>\n",
       "    <tr>\n",
       "      <th>4</th>\n",
       "      <td>0</td>\n",
       "      <td>1493736949691</td>\n",
       "      <td>0.0009</td>\n",
       "      <td>-0.0005</td>\n",
       "      <td>-0.0055</td>\n",
       "    </tr>\n",
       "  </tbody>\n",
       "</table>\n",
       "</div>"
      ],
      "text/plain": [
       "  tac       acc_time       x       y       z\n",
       "0   0  1493736949591  0.0025  0.0043 -0.0027\n",
       "1   0  1493736949616 -0.0003 -0.0013 -0.0051\n",
       "2   0  1493736949641  0.0022  0.0014 -0.0027\n",
       "3   0  1493736949665  0.0006  -0.001 -0.0047\n",
       "4   0  1493736949691  0.0009 -0.0005 -0.0055"
      ]
     },
     "execution_count": 21,
     "metadata": {},
     "output_type": "execute_result"
    }
   ],
   "source": [
    "# Finally, combine the two dataframes\n",
    "data = pd.concat(objs=[n_dr, dr])\n",
    "data.head()"
   ]
  },
  {
   "cell_type": "code",
   "execution_count": 22,
   "id": "f936177f",
   "metadata": {},
   "outputs": [
    {
     "data": {
      "text/plain": [
       "tac         0\n",
       "acc_time    0\n",
       "x           0\n",
       "y           0\n",
       "z           0\n",
       "dtype: int64"
      ]
     },
     "execution_count": 22,
     "metadata": {},
     "output_type": "execute_result"
    }
   ],
   "source": [
    "# Check for nulls\n",
    "\n",
    "data.isnull().sum()"
   ]
  },
  {
   "cell_type": "code",
   "execution_count": 23,
   "id": "d914c33a",
   "metadata": {},
   "outputs": [
    {
     "name": "stdout",
     "output_type": "stream",
     "text": [
      "<class 'pandas.core.frame.DataFrame'>\n",
      "Int64Index: 192784 entries, 0 to 488454\n",
      "Data columns (total 5 columns):\n",
      " #   Column    Non-Null Count   Dtype \n",
      "---  ------    --------------   ----- \n",
      " 0   tac       192784 non-null  object\n",
      " 1   acc_time  192784 non-null  object\n",
      " 2   x         192784 non-null  object\n",
      " 3   y         192784 non-null  object\n",
      " 4   z         192784 non-null  object\n",
      "dtypes: object(5)\n",
      "memory usage: 8.8+ MB\n"
     ]
    }
   ],
   "source": [
    "# Data Information\n",
    "\n",
    "data.info()"
   ]
  },
  {
   "cell_type": "markdown",
   "id": "bddf0c98",
   "metadata": {},
   "source": [
    "### Plots "
   ]
  },
  {
   "cell_type": "markdown",
   "id": "19fe4e26",
   "metadata": {},
   "source": [
    "We create plots of x,y,z with respect to time for tac = 1 (drunk) and tac = 0 (not drunk)"
   ]
  },
  {
   "cell_type": "code",
   "execution_count": 24,
   "id": "d9ffee58",
   "metadata": {},
   "outputs": [
    {
     "data": {
      "text/html": [
       "<div>\n",
       "<style scoped>\n",
       "    .dataframe tbody tr th:only-of-type {\n",
       "        vertical-align: middle;\n",
       "    }\n",
       "\n",
       "    .dataframe tbody tr th {\n",
       "        vertical-align: top;\n",
       "    }\n",
       "\n",
       "    .dataframe thead th {\n",
       "        text-align: right;\n",
       "    }\n",
       "</style>\n",
       "<table border=\"1\" class=\"dataframe\">\n",
       "  <thead>\n",
       "    <tr style=\"text-align: right;\">\n",
       "      <th></th>\n",
       "      <th>tac</th>\n",
       "      <th>acc_time</th>\n",
       "      <th>x</th>\n",
       "      <th>y</th>\n",
       "      <th>z</th>\n",
       "    </tr>\n",
       "  </thead>\n",
       "  <tbody>\n",
       "    <tr>\n",
       "      <th>0</th>\n",
       "      <td>0</td>\n",
       "      <td>1493736949591</td>\n",
       "      <td>0.0025</td>\n",
       "      <td>0.0043</td>\n",
       "      <td>-0.0027</td>\n",
       "    </tr>\n",
       "    <tr>\n",
       "      <th>1</th>\n",
       "      <td>0</td>\n",
       "      <td>1493736949616</td>\n",
       "      <td>-0.0003</td>\n",
       "      <td>-0.0013</td>\n",
       "      <td>-0.0051</td>\n",
       "    </tr>\n",
       "    <tr>\n",
       "      <th>2</th>\n",
       "      <td>0</td>\n",
       "      <td>1493736949641</td>\n",
       "      <td>0.0022</td>\n",
       "      <td>0.0014</td>\n",
       "      <td>-0.0027</td>\n",
       "    </tr>\n",
       "    <tr>\n",
       "      <th>3</th>\n",
       "      <td>0</td>\n",
       "      <td>1493736949665</td>\n",
       "      <td>0.0006</td>\n",
       "      <td>-0.001</td>\n",
       "      <td>-0.0047</td>\n",
       "    </tr>\n",
       "    <tr>\n",
       "      <th>4</th>\n",
       "      <td>0</td>\n",
       "      <td>1493736949691</td>\n",
       "      <td>0.0009</td>\n",
       "      <td>-0.0005</td>\n",
       "      <td>-0.0055</td>\n",
       "    </tr>\n",
       "  </tbody>\n",
       "</table>\n",
       "</div>"
      ],
      "text/plain": [
       "  tac       acc_time       x       y       z\n",
       "0   0  1493736949591  0.0025  0.0043 -0.0027\n",
       "1   0  1493736949616 -0.0003 -0.0013 -0.0051\n",
       "2   0  1493736949641  0.0022  0.0014 -0.0027\n",
       "3   0  1493736949665  0.0006  -0.001 -0.0047\n",
       "4   0  1493736949691  0.0009 -0.0005 -0.0055"
      ]
     },
     "execution_count": 24,
     "metadata": {},
     "output_type": "execute_result"
    }
   ],
   "source": [
    "data.head()"
   ]
  },
  {
   "cell_type": "code",
   "execution_count": 25,
   "id": "497bf544",
   "metadata": {},
   "outputs": [],
   "source": [
    "def axis(m ,title, x, y):\n",
    "    \n",
    "    m.plot(x, y, 'b')\n",
    "    m.set_title(title, fontsize=11)\n",
    "    # add grid\n",
    "    m.grid(True)\n",
    "    # not show x-axis\n",
    "    m.xaxis.set_visible(False)"
   ]
  },
  {
   "cell_type": "code",
   "execution_count": 26,
   "id": "128ee25c",
   "metadata": {},
   "outputs": [],
   "source": [
    "def plot(data,tac):\n",
    "    \n",
    "    fig, (acc_x, acc_y, acc_z) = plt.subplots(nrows=3, figsize=(12, 6))\n",
    "    \n",
    "    # plots for x,y,z\n",
    "    axis(acc_x, 'x acceleration', data['acc_time'], data['x'])\n",
    "    axis(acc_y, 'y acceleration', data['acc_time'], data['y'])\n",
    "    axis(acc_z, 'z acceleration', data['acc_time'], data['z'])\n",
    "    \n",
    "    if tac == 0:\n",
    "        title = 'Not Drunk'\n",
    "    else:\n",
    "        title = 'Drunk'\n",
    "    \n",
    "    fig.suptitle(title, fontsize=14)\n",
    "    plt.subplots_adjust(hspace=0.4)\n",
    "    \n",
    "    plt.show()"
   ]
  },
  {
   "cell_type": "code",
   "execution_count": 27,
   "id": "4334511d",
   "metadata": {},
   "outputs": [
    {
     "data": {
      "image/png": "[encoded data removed]",
      "text/plain": [
       "<Figure size 864x432 with 3 Axes>"
      ]
     },
     "metadata": {
      "needs_background": "light"
     },
     "output_type": "display_data"
    },
    {
     "data": {
      "image/png": "[encoded data removed]",
      "text/plain": [
       "<Figure size 864x432 with 3 Axes>"
      ]
     },
     "metadata": {
      "needs_background": "light"
     },
     "output_type": "display_data"
    }
   ],
   "source": [
    "# frame size for sliding window\n",
    "f = 20\n",
    "\n",
    "tac_value = data['tac'].value_counts().index\n",
    "\n",
    "# Create plot for both tac values using the above functions\n",
    "for i in tac_value:\n",
    "    df_plot = data[(data['tac'] == i)][:f*10]\n",
    "    plot(df_plot, i)"
   ]
  },
  {
   "cell_type": "markdown",
   "id": "0f13b5e8",
   "metadata": {},
   "source": [
    "### Label the Dataset"
   ]
  },
  {
   "cell_type": "markdown",
   "id": "11456947",
   "metadata": {},
   "source": [
    "Drop time column"
   ]
  },
  {
   "cell_type": "code",
   "execution_count": 28,
   "id": "261bfe82",
   "metadata": {},
   "outputs": [
    {
     "data": {
      "text/html": [
       "<div>\n",
       "<style scoped>\n",
       "    .dataframe tbody tr th:only-of-type {\n",
       "        vertical-align: middle;\n",
       "    }\n",
       "\n",
       "    .dataframe tbody tr th {\n",
       "        vertical-align: top;\n",
       "    }\n",
       "\n",
       "    .dataframe thead th {\n",
       "        text-align: right;\n",
       "    }\n",
       "</style>\n",
       "<table border=\"1\" class=\"dataframe\">\n",
       "  <thead>\n",
       "    <tr style=\"text-align: right;\">\n",
       "      <th></th>\n",
       "      <th>tac</th>\n",
       "      <th>x</th>\n",
       "      <th>y</th>\n",
       "      <th>z</th>\n",
       "    </tr>\n",
       "  </thead>\n",
       "  <tbody>\n",
       "    <tr>\n",
       "      <th>0</th>\n",
       "      <td>0</td>\n",
       "      <td>0.0025</td>\n",
       "      <td>0.0043</td>\n",
       "      <td>-0.0027</td>\n",
       "    </tr>\n",
       "    <tr>\n",
       "      <th>1</th>\n",
       "      <td>0</td>\n",
       "      <td>-0.0003</td>\n",
       "      <td>-0.0013</td>\n",
       "      <td>-0.0051</td>\n",
       "    </tr>\n",
       "    <tr>\n",
       "      <th>2</th>\n",
       "      <td>0</td>\n",
       "      <td>0.0022</td>\n",
       "      <td>0.0014</td>\n",
       "      <td>-0.0027</td>\n",
       "    </tr>\n",
       "    <tr>\n",
       "      <th>3</th>\n",
       "      <td>0</td>\n",
       "      <td>0.0006</td>\n",
       "      <td>-0.001</td>\n",
       "      <td>-0.0047</td>\n",
       "    </tr>\n",
       "    <tr>\n",
       "      <th>4</th>\n",
       "      <td>0</td>\n",
       "      <td>0.0009</td>\n",
       "      <td>-0.0005</td>\n",
       "      <td>-0.0055</td>\n",
       "    </tr>\n",
       "  </tbody>\n",
       "</table>\n",
       "</div>"
      ],
      "text/plain": [
       "  tac       x       y       z\n",
       "0   0  0.0025  0.0043 -0.0027\n",
       "1   0 -0.0003 -0.0013 -0.0051\n",
       "2   0  0.0022  0.0014 -0.0027\n",
       "3   0  0.0006  -0.001 -0.0047\n",
       "4   0  0.0009 -0.0005 -0.0055"
      ]
     },
     "execution_count": 28,
     "metadata": {},
     "output_type": "execute_result"
    }
   ],
   "source": [
    "data.drop(\"acc_time\", axis=1, inplace=True)\n",
    "data.head()"
   ]
  },
  {
   "cell_type": "markdown",
   "id": "be9903c6",
   "metadata": {},
   "source": [
    "Add Label"
   ]
  },
  {
   "cell_type": "code",
   "execution_count": 29,
   "id": "7f2ee5c6",
   "metadata": {},
   "outputs": [
    {
     "data": {
      "text/html": [
       "<div>\n",
       "<style scoped>\n",
       "    .dataframe tbody tr th:only-of-type {\n",
       "        vertical-align: middle;\n",
       "    }\n",
       "\n",
       "    .dataframe tbody tr th {\n",
       "        vertical-align: top;\n",
       "    }\n",
       "\n",
       "    .dataframe thead th {\n",
       "        text-align: right;\n",
       "    }\n",
       "</style>\n",
       "<table border=\"1\" class=\"dataframe\">\n",
       "  <thead>\n",
       "    <tr style=\"text-align: right;\">\n",
       "      <th></th>\n",
       "      <th>tac</th>\n",
       "      <th>x</th>\n",
       "      <th>y</th>\n",
       "      <th>z</th>\n",
       "      <th>l</th>\n",
       "    </tr>\n",
       "  </thead>\n",
       "  <tbody>\n",
       "    <tr>\n",
       "      <th>0</th>\n",
       "      <td>0</td>\n",
       "      <td>0.0025</td>\n",
       "      <td>0.0043</td>\n",
       "      <td>-0.0027</td>\n",
       "      <td>0</td>\n",
       "    </tr>\n",
       "    <tr>\n",
       "      <th>1</th>\n",
       "      <td>0</td>\n",
       "      <td>-0.0003</td>\n",
       "      <td>-0.0013</td>\n",
       "      <td>-0.0051</td>\n",
       "      <td>0</td>\n",
       "    </tr>\n",
       "    <tr>\n",
       "      <th>2</th>\n",
       "      <td>0</td>\n",
       "      <td>0.0022</td>\n",
       "      <td>0.0014</td>\n",
       "      <td>-0.0027</td>\n",
       "      <td>0</td>\n",
       "    </tr>\n",
       "    <tr>\n",
       "      <th>3</th>\n",
       "      <td>0</td>\n",
       "      <td>0.0006</td>\n",
       "      <td>-0.001</td>\n",
       "      <td>-0.0047</td>\n",
       "      <td>0</td>\n",
       "    </tr>\n",
       "    <tr>\n",
       "      <th>4</th>\n",
       "      <td>0</td>\n",
       "      <td>0.0009</td>\n",
       "      <td>-0.0005</td>\n",
       "      <td>-0.0055</td>\n",
       "      <td>0</td>\n",
       "    </tr>\n",
       "  </tbody>\n",
       "</table>\n",
       "</div>"
      ],
      "text/plain": [
       "  tac       x       y       z  l\n",
       "0   0  0.0025  0.0043 -0.0027  0\n",
       "1   0 -0.0003 -0.0013 -0.0051  0\n",
       "2   0  0.0022  0.0014 -0.0027  0\n",
       "3   0  0.0006  -0.001 -0.0047  0\n",
       "4   0  0.0009 -0.0005 -0.0055  0"
      ]
     },
     "execution_count": 29,
     "metadata": {},
     "output_type": "execute_result"
    }
   ],
   "source": [
    "l_e = LabelEncoder()\n",
    "data['l'] = l_e.fit_transform(data['tac'])\n",
    "data.head()"
   ]
  },
  {
   "cell_type": "markdown",
   "id": "a91f66eb",
   "metadata": {},
   "source": [
    "### Split to X and y"
   ]
  },
  {
   "cell_type": "code",
   "execution_count": 30,
   "id": "923bf0e2",
   "metadata": {},
   "outputs": [],
   "source": [
    "X = data[['x', 'y', 'z']]\n",
    "y = data['l']"
   ]
  },
  {
   "cell_type": "code",
   "execution_count": 31,
   "id": "b1db6507",
   "metadata": {},
   "outputs": [
    {
     "data": {
      "text/plain": [
       "((192784, 3), (192784,))"
      ]
     },
     "execution_count": 31,
     "metadata": {},
     "output_type": "execute_result"
    }
   ],
   "source": [
    "X.shape, y.shape"
   ]
  },
  {
   "cell_type": "markdown",
   "id": "571638be",
   "metadata": {},
   "source": [
    "### Transfrorm the Dataset to match the input of Tensor"
   ]
  },
  {
   "cell_type": "code",
   "execution_count": 32,
   "id": "ccb61b48",
   "metadata": {},
   "outputs": [],
   "source": [
    "def func(df, fs, hs):\n",
    "    \n",
    "    frs = []\n",
    "    ls = []\n",
    "    feat = 3\n",
    "    a = (len(df) - fs)\n",
    "\n",
    "    for w in range(0, a , hs):\n",
    "        \n",
    "        x = df['x'].values[w: w + fs]\n",
    "        y = df['y'].values[w: w + fs]\n",
    "        z = df['z'].values[w: w + fs]\n",
    "        \n",
    "        l = stats.mode(df['l'][w: w + fs])[0][0]\n",
    "        frs.append([x, y, z])\n",
    "        ls.append(l)\n",
    "\n",
    "    frs = np.asarray(frs).reshape(-1, fs, feat)\n",
    "    ls = np.asarray(ls)\n",
    "\n",
    "    return frs, ls"
   ]
  },
  {
   "cell_type": "code",
   "execution_count": 33,
   "id": "a58e0f24",
   "metadata": {},
   "outputs": [],
   "source": [
    "scaler = StandardScaler()\n",
    "\n",
    "X2 = scaler.fit_transform(X)\n",
    "scaled_X1 = pd.DataFrame(data = X2, columns = ['x', 'y', 'z'])\n",
    "scaled_X1['l'] = y.values\n",
    "\n",
    "s = 20\n",
    "fs = s*10\n",
    "hs = s*2\n",
    "\n",
    "X2, y2 = func(scaled_X1, fs, hs)"
   ]
  },
  {
   "cell_type": "code",
   "execution_count": 34,
   "id": "f1e63130",
   "metadata": {},
   "outputs": [
    {
     "data": {
      "text/plain": [
       "((4815, 200, 3), (4815,))"
      ]
     },
     "execution_count": 34,
     "metadata": {},
     "output_type": "execute_result"
    }
   ],
   "source": [
    "X2.shape, y2.shape"
   ]
  },
  {
   "cell_type": "markdown",
   "id": "d155d960",
   "metadata": {},
   "source": [
    "## 2. Model Development"
   ]
  },
  {
   "cell_type": "markdown",
   "id": "4c008661",
   "metadata": {},
   "source": [
    "### Train - Test Split"
   ]
  },
  {
   "cell_type": "code",
   "execution_count": 35,
   "id": "2263e4ed",
   "metadata": {},
   "outputs": [],
   "source": [
    "X_train, X_test, y_train, y_test = train_test_split(X2, y2, test_size = 0.2, random_state = 0, stratify = y2)"
   ]
  },
  {
   "cell_type": "code",
   "execution_count": 36,
   "id": "c70ca57a",
   "metadata": {},
   "outputs": [
    {
     "data": {
      "text/plain": [
       "((3852, 200, 3), (963, 200, 3))"
      ]
     },
     "execution_count": 36,
     "metadata": {},
     "output_type": "execute_result"
    }
   ],
   "source": [
    "X_train.shape, X_test.shape"
   ]
  },
  {
   "cell_type": "code",
   "execution_count": 37,
   "id": "1fb9c925",
   "metadata": {},
   "outputs": [
    {
     "data": {
      "text/plain": [
       "((3852,), (963,))"
      ]
     },
     "execution_count": 37,
     "metadata": {},
     "output_type": "execute_result"
    }
   ],
   "source": [
    "y_train.shape, y_test.shape"
   ]
  },
  {
   "cell_type": "markdown",
   "id": "fd73f3c5",
   "metadata": {},
   "source": [
    "### I. Building a Convolutional Neural Network Model"
   ]
  },
  {
   "cell_type": "markdown",
   "id": "ce7a2bc0",
   "metadata": {},
   "source": [
    "Implementation of the final model (model with the best performance)"
   ]
  },
  {
   "cell_type": "code",
   "execution_count": 38,
   "id": "7c25767c",
   "metadata": {},
   "outputs": [
    {
     "name": "stdout",
     "output_type": "stream",
     "text": [
      "Model: \"sequential\"\n",
      "_________________________________________________________________\n",
      " Layer (type)                Output Shape              Param #   \n",
      "=================================================================\n",
      " conv1d (Conv1D)             (None, 196, 64)           1024      \n",
      "                                                                 \n",
      " conv1d_1 (Conv1D)           (None, 192, 64)           20544     \n",
      "                                                                 \n",
      " dropout (Dropout)           (None, 192, 64)           0         \n",
      "                                                                 \n",
      " max_pooling1d (MaxPooling1D  (None, 96, 64)           0         \n",
      " )                                                               \n",
      "                                                                 \n",
      " flatten (Flatten)           (None, 6144)              0         \n",
      "                                                                 \n",
      " dense (Dense)               (None, 254)               1560830   \n",
      "                                                                 \n",
      "=================================================================\n",
      "Total params: 1,582,398\n",
      "Trainable params: 1,582,398\n",
      "Non-trainable params: 0\n",
      "_________________________________________________________________\n"
     ]
    }
   ],
   "source": [
    "# filter 64, size 5, features 128\n",
    "\n",
    "# Conv1D (1)\n",
    "model = Sequential()\n",
    "model.add(Conv1D(filters = 64, kernel_size = 5, activation = 'relu', input_shape = X_train[0].shape))\n",
    "\n",
    "\n",
    "# Conv1D (2)\n",
    "model.add(Conv1D(64, kernel_size = 5, activation='relu'))\n",
    "\n",
    "# Drop out with drop out layer p = 0.5\n",
    "model.add(Dropout(0.5))\n",
    "\n",
    "# Max Pooling with pool size equal to 2\n",
    "model.add(MaxPooling1D(pool_size=2))\n",
    "\n",
    "# This layer flattens the resulting array to 1D array\n",
    "model.add(Flatten())\n",
    "\n",
    "# Fully connected layer with 128 features before the final output\n",
    "model.add(Dense(254, activation='softmax'))\n",
    "\n",
    "# We use the binary cross entropy as the loss function and Adam as the optimizer.\n",
    "model.compile(optimizer=Adam(learning_rate = 0.001), loss = 'sparse_categorical_crossentropy', metrics = ['accuracy'])\n",
    "\n",
    "model.summary()"
   ]
  },
  {
   "cell_type": "markdown",
   "id": "72771f69",
   "metadata": {},
   "source": [
    "#### Training the CNN"
   ]
  },
  {
   "cell_type": "code",
   "execution_count": 39,
   "id": "b6f03278",
   "metadata": {},
   "outputs": [
    {
     "name": "stdout",
     "output_type": "stream",
     "text": [
      "Epoch 1/10\n",
      "193/193 [==============================] - 4s 20ms/step - loss: 0.8316 - accuracy: 0.6516 - val_loss: 0.5911 - val_accuracy: 0.7331\n",
      "Epoch 2/10\n",
      "193/193 [==============================] - 4s 20ms/step - loss: 0.4960 - accuracy: 0.7640 - val_loss: 0.4780 - val_accuracy: 0.8037\n",
      "Epoch 3/10\n",
      "193/193 [==============================] - 4s 19ms/step - loss: 0.3881 - accuracy: 0.8292 - val_loss: 0.3747 - val_accuracy: 0.8505\n",
      "Epoch 4/10\n",
      "193/193 [==============================] - 4s 20ms/step - loss: 0.3071 - accuracy: 0.8746 - val_loss: 0.3198 - val_accuracy: 0.8702\n",
      "Epoch 5/10\n",
      "193/193 [==============================] - 4s 22ms/step - loss: 0.2601 - accuracy: 0.8930 - val_loss: 0.2808 - val_accuracy: 0.9024\n",
      "Epoch 6/10\n",
      "193/193 [==============================] - 4s 22ms/step - loss: 0.2197 - accuracy: 0.9159 - val_loss: 0.2715 - val_accuracy: 0.8920\n",
      "Epoch 7/10\n",
      "193/193 [==============================] - 4s 22ms/step - loss: 0.2085 - accuracy: 0.9255 - val_loss: 0.2364 - val_accuracy: 0.9242\n",
      "Epoch 8/10\n",
      "193/193 [==============================] - 4s 22ms/step - loss: 0.1703 - accuracy: 0.9455 - val_loss: 0.2236 - val_accuracy: 0.9086\n",
      "Epoch 9/10\n",
      "193/193 [==============================] - 4s 21ms/step - loss: 0.1566 - accuracy: 0.9491 - val_loss: 0.2000 - val_accuracy: 0.9450\n",
      "Epoch 10/10\n",
      "193/193 [==============================] - 4s 22ms/step - loss: 0.1510 - accuracy: 0.9540 - val_loss: 0.2021 - val_accuracy: 0.9439\n"
     ]
    }
   ],
   "source": [
    "history = model.fit(X_train, y_train, epochs = 10, batch_size = 20, validation_data= (X_test, y_test), verbose=1)"
   ]
  },
  {
   "cell_type": "code",
   "execution_count": 40,
   "id": "e3b93fb2",
   "metadata": {},
   "outputs": [
    {
     "name": "stdout",
     "output_type": "stream",
     "text": [
      "31/31 [==============================] - 0s 5ms/step\n",
      "              precision    recall  f1-score   support\n",
      "\n",
      "           0       0.96      0.93      0.94       482\n",
      "           1       0.93      0.96      0.94       481\n",
      "\n",
      "    accuracy                           0.94       963\n",
      "   macro avg       0.94      0.94      0.94       963\n",
      "weighted avg       0.94      0.94      0.94       963\n",
      "\n",
      "[[449  33]\n",
      " [ 21 460]]\n"
     ]
    }
   ],
   "source": [
    "X_predict = model.predict(X_test) \n",
    "y_predict = np.argmax(X_predict,axis=1)\n",
    "\n",
    "cn_matrix = confusion_matrix(y_test, y_predict)\n",
    "#[[True Negative, False Positive]\n",
    "#[False Negative, True Positive]]\n",
    "\n",
    "cr = classification_report(y_test, y_predict)\n",
    "\n",
    "print(cr)\n",
    "print (cn_matrix)"
   ]
  },
  {
   "cell_type": "markdown",
   "id": "2308bb14",
   "metadata": {},
   "source": [
    "#### CNN Model Export"
   ]
  },
  {
   "cell_type": "code",
   "execution_count": 41,
   "id": "51218e2a",
   "metadata": {},
   "outputs": [],
   "source": [
    "# saving the model to json format\n",
    "json_string = model.to_json()\n",
    "open('model.json', 'w').write(json_string)\n",
    "\n",
    "#saving the weights of the model separately\n",
    "model.save_weights('model.h5') "
   ]
  },
  {
   "cell_type": "markdown",
   "id": "dcefc222",
   "metadata": {},
   "source": [
    "### II. Building a Long Short Term Memory Model"
   ]
  },
  {
   "cell_type": "code",
   "execution_count": 42,
   "id": "ce0bdf1c",
   "metadata": {},
   "outputs": [
    {
     "name": "stdout",
     "output_type": "stream",
     "text": [
      "Model: \"sequential_1\"\n",
      "_________________________________________________________________\n",
      " Layer (type)                Output Shape              Param #   \n",
      "=================================================================\n",
      " lstm (LSTM)                 (None, 64)                17408     \n",
      "                                                                 \n",
      " dropout_1 (Dropout)         (None, 64)                0         \n",
      "                                                                 \n",
      " flatten_1 (Flatten)         (None, 64)                0         \n",
      "                                                                 \n",
      " dense_1 (Dense)             (None, 128)               8320      \n",
      "                                                                 \n",
      "=================================================================\n",
      "Total params: 25,728\n",
      "Trainable params: 25,728\n",
      "Non-trainable params: 0\n",
      "_________________________________________________________________\n"
     ]
    }
   ],
   "source": [
    "#import tensorflow as tf\n",
    "#from tensorflow import keras\n",
    "from tensorflow.keras import layers\n",
    "\n",
    "# LSTM Layer\n",
    "model2 = Sequential()\n",
    "model2.add(layers.LSTM(64, input_shape = X_train[0].shape))\n",
    "\n",
    "# Drop out with drop out layer p = 0.5\n",
    "model2.add(Dropout(0.5))\n",
    "\n",
    "# This layer flattens the resulting array to 1D array\n",
    "model2.add(Flatten())\n",
    "\n",
    "# Fully connected layer with 128 features before the final output\n",
    "model2.add(Dense(128, activation='softmax'))\n",
    "\n",
    "# We use the binary cross entropy as the loss function and Adam as the optimizer.\n",
    "model2.compile(optimizer=Adam(learning_rate = 0.001), loss = 'sparse_categorical_crossentropy', metrics = ['accuracy'])\n",
    "\n",
    "model2.summary()"
   ]
  },
  {
   "cell_type": "markdown",
   "id": "05098b1b",
   "metadata": {},
   "source": [
    "#### Training the LSTM"
   ]
  },
  {
   "cell_type": "code",
   "execution_count": 43,
   "id": "e5a4067e",
   "metadata": {},
   "outputs": [
    {
     "name": "stdout",
     "output_type": "stream",
     "text": [
      "Epoch 1/10\n",
      "193/193 [==============================] - 12s 55ms/step - loss: 1.4471 - accuracy: 0.4925 - val_loss: 0.6979 - val_accuracy: 0.5088\n",
      "Epoch 2/10\n",
      "193/193 [==============================] - 11s 56ms/step - loss: 0.7262 - accuracy: 0.5174 - val_loss: 0.6384 - val_accuracy: 0.7009\n",
      "Epoch 3/10\n",
      "193/193 [==============================] - 12s 62ms/step - loss: 0.6553 - accuracy: 0.6353 - val_loss: 0.6177 - val_accuracy: 0.7165\n",
      "Epoch 4/10\n",
      "193/193 [==============================] - 12s 63ms/step - loss: 0.6417 - accuracy: 0.6620 - val_loss: 0.6154 - val_accuracy: 0.6999\n",
      "Epoch 5/10\n",
      "193/193 [==============================] - 12s 64ms/step - loss: 0.6240 - accuracy: 0.6854 - val_loss: 0.6030 - val_accuracy: 0.6999\n",
      "Epoch 6/10\n",
      "193/193 [==============================] - 13s 68ms/step - loss: 0.6232 - accuracy: 0.6906 - val_loss: 0.5934 - val_accuracy: 0.7155\n",
      "Epoch 7/10\n",
      "193/193 [==============================] - 13s 66ms/step - loss: 0.6147 - accuracy: 0.7028 - val_loss: 0.5950 - val_accuracy: 0.7124\n",
      "Epoch 8/10\n",
      "193/193 [==============================] - 13s 65ms/step - loss: 0.6091 - accuracy: 0.7077 - val_loss: 0.6028 - val_accuracy: 0.7082\n",
      "Epoch 9/10\n",
      "193/193 [==============================] - 13s 66ms/step - loss: 0.6106 - accuracy: 0.6981 - val_loss: 0.5879 - val_accuracy: 0.7207\n",
      "Epoch 10/10\n",
      "193/193 [==============================] - 13s 67ms/step - loss: 0.6170 - accuracy: 0.6942 - val_loss: 0.5935 - val_accuracy: 0.7134\n"
     ]
    }
   ],
   "source": [
    "history2 = model2.fit(X_train, y_train, epochs = 10, batch_size = 20, validation_data= (X_test, y_test), verbose=1)"
   ]
  },
  {
   "cell_type": "markdown",
   "id": "72a5e4c1",
   "metadata": {},
   "source": [
    "## 3. Test using CNN"
   ]
  },
  {
   "cell_type": "markdown",
   "id": "04edf4bc",
   "metadata": {},
   "source": [
    "In this section we set up code for inference"
   ]
  },
  {
   "cell_type": "markdown",
   "id": "d366610d",
   "metadata": {},
   "source": [
    "### Test Data Preprocessing"
   ]
  },
  {
   "cell_type": "markdown",
   "id": "94a0bf9b",
   "metadata": {},
   "source": [
    "We load a previously created .csv file of another \"pid\"."
   ]
  },
  {
   "cell_type": "code",
   "execution_count": 44,
   "id": "4b4fe794",
   "metadata": {},
   "outputs": [
    {
     "data": {
      "text/html": [
       "<div>\n",
       "<style scoped>\n",
       "    .dataframe tbody tr th:only-of-type {\n",
       "        vertical-align: middle;\n",
       "    }\n",
       "\n",
       "    .dataframe tbody tr th {\n",
       "        vertical-align: top;\n",
       "    }\n",
       "\n",
       "    .dataframe thead th {\n",
       "        text-align: right;\n",
       "    }\n",
       "</style>\n",
       "<table border=\"1\" class=\"dataframe\">\n",
       "  <thead>\n",
       "    <tr style=\"text-align: right;\">\n",
       "      <th></th>\n",
       "      <th>time</th>\n",
       "      <th>pid</th>\n",
       "      <th>x</th>\n",
       "      <th>y</th>\n",
       "      <th>z</th>\n",
       "    </tr>\n",
       "  </thead>\n",
       "  <tbody>\n",
       "    <tr>\n",
       "      <th>0</th>\n",
       "      <td>1493735288409</td>\n",
       "      <td>PC6771</td>\n",
       "      <td>0.0040</td>\n",
       "      <td>-0.0113</td>\n",
       "      <td>0.0051</td>\n",
       "    </tr>\n",
       "    <tr>\n",
       "      <th>1</th>\n",
       "      <td>1493735288435</td>\n",
       "      <td>PC6771</td>\n",
       "      <td>0.0039</td>\n",
       "      <td>-0.0088</td>\n",
       "      <td>0.0171</td>\n",
       "    </tr>\n",
       "    <tr>\n",
       "      <th>2</th>\n",
       "      <td>1493735288460</td>\n",
       "      <td>PC6771</td>\n",
       "      <td>-0.0012</td>\n",
       "      <td>-0.0088</td>\n",
       "      <td>0.0172</td>\n",
       "    </tr>\n",
       "    <tr>\n",
       "      <th>3</th>\n",
       "      <td>1493735288485</td>\n",
       "      <td>PC6771</td>\n",
       "      <td>0.0033</td>\n",
       "      <td>-0.0048</td>\n",
       "      <td>0.0072</td>\n",
       "    </tr>\n",
       "    <tr>\n",
       "      <th>4</th>\n",
       "      <td>1493735288510</td>\n",
       "      <td>PC6771</td>\n",
       "      <td>0.0051</td>\n",
       "      <td>-0.0033</td>\n",
       "      <td>0.0135</td>\n",
       "    </tr>\n",
       "  </tbody>\n",
       "</table>\n",
       "</div>"
      ],
      "text/plain": [
       "            time     pid       x       y       z\n",
       "0  1493735288409  PC6771  0.0040 -0.0113  0.0051\n",
       "1  1493735288435  PC6771  0.0039 -0.0088  0.0171\n",
       "2  1493735288460  PC6771 -0.0012 -0.0088  0.0172\n",
       "3  1493735288485  PC6771  0.0033 -0.0048  0.0072\n",
       "4  1493735288510  PC6771  0.0051 -0.0033  0.0135"
      ]
     },
     "execution_count": 44,
     "metadata": {},
     "output_type": "execute_result"
    }
   ],
   "source": [
    "test = pd.read_csv(\"PC6771\")\n",
    "test = pd.DataFrame(test)\n",
    "test.drop(\"Unnamed: 0\", axis=1, inplace=True)\n",
    "\n",
    "test.head()"
   ]
  },
  {
   "cell_type": "markdown",
   "id": "71898468",
   "metadata": {},
   "source": [
    "Add seconds column"
   ]
  },
  {
   "cell_type": "code",
   "execution_count": 45,
   "id": "a7f05cb4",
   "metadata": {},
   "outputs": [
    {
     "data": {
      "text/html": [
       "<div>\n",
       "<style scoped>\n",
       "    .dataframe tbody tr th:only-of-type {\n",
       "        vertical-align: middle;\n",
       "    }\n",
       "\n",
       "    .dataframe tbody tr th {\n",
       "        vertical-align: top;\n",
       "    }\n",
       "\n",
       "    .dataframe thead th {\n",
       "        text-align: right;\n",
       "    }\n",
       "</style>\n",
       "<table border=\"1\" class=\"dataframe\">\n",
       "  <thead>\n",
       "    <tr style=\"text-align: right;\">\n",
       "      <th></th>\n",
       "      <th>time</th>\n",
       "      <th>pid</th>\n",
       "      <th>x</th>\n",
       "      <th>y</th>\n",
       "      <th>z</th>\n",
       "      <th>time_seconds</th>\n",
       "    </tr>\n",
       "  </thead>\n",
       "  <tbody>\n",
       "    <tr>\n",
       "      <th>0</th>\n",
       "      <td>1493735288409</td>\n",
       "      <td>PC6771</td>\n",
       "      <td>0.0040</td>\n",
       "      <td>-0.0113</td>\n",
       "      <td>0.0051</td>\n",
       "      <td>1493735288</td>\n",
       "    </tr>\n",
       "    <tr>\n",
       "      <th>1</th>\n",
       "      <td>1493735288435</td>\n",
       "      <td>PC6771</td>\n",
       "      <td>0.0039</td>\n",
       "      <td>-0.0088</td>\n",
       "      <td>0.0171</td>\n",
       "      <td>1493735288</td>\n",
       "    </tr>\n",
       "    <tr>\n",
       "      <th>2</th>\n",
       "      <td>1493735288460</td>\n",
       "      <td>PC6771</td>\n",
       "      <td>-0.0012</td>\n",
       "      <td>-0.0088</td>\n",
       "      <td>0.0172</td>\n",
       "      <td>1493735288</td>\n",
       "    </tr>\n",
       "    <tr>\n",
       "      <th>3</th>\n",
       "      <td>1493735288485</td>\n",
       "      <td>PC6771</td>\n",
       "      <td>0.0033</td>\n",
       "      <td>-0.0048</td>\n",
       "      <td>0.0072</td>\n",
       "      <td>1493735288</td>\n",
       "    </tr>\n",
       "    <tr>\n",
       "      <th>4</th>\n",
       "      <td>1493735288510</td>\n",
       "      <td>PC6771</td>\n",
       "      <td>0.0051</td>\n",
       "      <td>-0.0033</td>\n",
       "      <td>0.0135</td>\n",
       "      <td>1493735288</td>\n",
       "    </tr>\n",
       "  </tbody>\n",
       "</table>\n",
       "</div>"
      ],
      "text/plain": [
       "            time     pid       x       y       z  time_seconds\n",
       "0  1493735288409  PC6771  0.0040 -0.0113  0.0051    1493735288\n",
       "1  1493735288435  PC6771  0.0039 -0.0088  0.0171    1493735288\n",
       "2  1493735288460  PC6771 -0.0012 -0.0088  0.0172    1493735288\n",
       "3  1493735288485  PC6771  0.0033 -0.0048  0.0072    1493735288\n",
       "4  1493735288510  PC6771  0.0051 -0.0033  0.0135    1493735288"
      ]
     },
     "execution_count": 45,
     "metadata": {},
     "output_type": "execute_result"
    }
   ],
   "source": [
    "test['time_seconds'] = test['time'].apply(seconds)\n",
    "test.head()"
   ]
  },
  {
   "cell_type": "markdown",
   "id": "06163b4b",
   "metadata": {},
   "source": [
    "Load the correspoding TAC .csv file"
   ]
  },
  {
   "cell_type": "code",
   "execution_count": 47,
   "id": "bd371a7d",
   "metadata": {},
   "outputs": [
    {
     "data": {
      "text/html": [
       "<div>\n",
       "<style scoped>\n",
       "    .dataframe tbody tr th:only-of-type {\n",
       "        vertical-align: middle;\n",
       "    }\n",
       "\n",
       "    .dataframe tbody tr th {\n",
       "        vertical-align: top;\n",
       "    }\n",
       "\n",
       "    .dataframe thead th {\n",
       "        text-align: right;\n",
       "    }\n",
       "</style>\n",
       "<table border=\"1\" class=\"dataframe\">\n",
       "  <thead>\n",
       "    <tr style=\"text-align: right;\">\n",
       "      <th></th>\n",
       "      <th>timestamp</th>\n",
       "      <th>TAC_Reading</th>\n",
       "    </tr>\n",
       "  </thead>\n",
       "  <tbody>\n",
       "    <tr>\n",
       "      <th>0</th>\n",
       "      <td>1493717859</td>\n",
       "      <td>0.000043</td>\n",
       "    </tr>\n",
       "    <tr>\n",
       "      <th>1</th>\n",
       "      <td>1493720213</td>\n",
       "      <td>0.003820</td>\n",
       "    </tr>\n",
       "    <tr>\n",
       "      <th>2</th>\n",
       "      <td>1493720624</td>\n",
       "      <td>0.004772</td>\n",
       "    </tr>\n",
       "    <tr>\n",
       "      <th>3</th>\n",
       "      <td>1493721057</td>\n",
       "      <td>0.002101</td>\n",
       "    </tr>\n",
       "    <tr>\n",
       "      <th>4</th>\n",
       "      <td>1493721363</td>\n",
       "      <td>-0.002334</td>\n",
       "    </tr>\n",
       "  </tbody>\n",
       "</table>\n",
       "</div>"
      ],
      "text/plain": [
       "    timestamp  TAC_Reading\n",
       "0  1493717859     0.000043\n",
       "1  1493720213     0.003820\n",
       "2  1493720624     0.004772\n",
       "3  1493721057     0.002101\n",
       "4  1493721363    -0.002334"
      ]
     },
     "execution_count": 47,
     "metadata": {},
     "output_type": "execute_result"
    }
   ],
   "source": [
    "test_tac = pd.read_csv(\"PC6771_clean_TAC.csv\")\n",
    "test_tac = pd.DataFrame(test_tac)\n",
    "test_tac.head()"
   ]
  },
  {
   "cell_type": "markdown",
   "id": "72bd77b3",
   "metadata": {},
   "source": [
    "Combine the two dataframes (Accelerometer & TAC)"
   ]
  },
  {
   "cell_type": "code",
   "execution_count": 48,
   "id": "f95bbfa7",
   "metadata": {},
   "outputs": [],
   "source": [
    "# Columns of the combined dataset\n",
    "df1 = pd.DataFrame(columns=['pid', 'tac_start', 'tac_end', 'tac', \n",
    "                                  'acc_time', 'x', 'y', 'z', 'acc_seconds'])"
   ]
  },
  {
   "cell_type": "code",
   "execution_count": 49,
   "id": "ddabf4a4",
   "metadata": {},
   "outputs": [],
   "source": [
    "tac_timestamp1 = test_tac['timestamp'].to_list() \n",
    "tac_reading1 = test_tac['TAC_Reading'].to_list() "
   ]
  },
  {
   "cell_type": "code",
   "execution_count": 50,
   "id": "eabb4184",
   "metadata": {},
   "outputs": [
    {
     "data": {
      "text/html": [
       "<div>\n",
       "<style scoped>\n",
       "    .dataframe tbody tr th:only-of-type {\n",
       "        vertical-align: middle;\n",
       "    }\n",
       "\n",
       "    .dataframe tbody tr th {\n",
       "        vertical-align: top;\n",
       "    }\n",
       "\n",
       "    .dataframe thead th {\n",
       "        text-align: right;\n",
       "    }\n",
       "</style>\n",
       "<table border=\"1\" class=\"dataframe\">\n",
       "  <thead>\n",
       "    <tr style=\"text-align: right;\">\n",
       "      <th></th>\n",
       "      <th>pid</th>\n",
       "      <th>tac_start</th>\n",
       "      <th>tac_end</th>\n",
       "      <th>tac</th>\n",
       "      <th>acc_time</th>\n",
       "      <th>x</th>\n",
       "      <th>y</th>\n",
       "      <th>z</th>\n",
       "      <th>acc_seconds</th>\n",
       "    </tr>\n",
       "  </thead>\n",
       "  <tbody>\n",
       "    <tr>\n",
       "      <th>0</th>\n",
       "      <td>PC6771</td>\n",
       "      <td>1493734728</td>\n",
       "      <td>1493734728</td>\n",
       "      <td>0.059162</td>\n",
       "      <td>1493735288409</td>\n",
       "      <td>0.004</td>\n",
       "      <td>-0.0113</td>\n",
       "      <td>0.0051</td>\n",
       "      <td>1493735288</td>\n",
       "    </tr>\n",
       "    <tr>\n",
       "      <th>1</th>\n",
       "      <td>PC6771</td>\n",
       "      <td>1493734728</td>\n",
       "      <td>1493734728</td>\n",
       "      <td>0.059162</td>\n",
       "      <td>1493735288435</td>\n",
       "      <td>0.0039</td>\n",
       "      <td>-0.0088</td>\n",
       "      <td>0.0171</td>\n",
       "      <td>1493735288</td>\n",
       "    </tr>\n",
       "    <tr>\n",
       "      <th>2</th>\n",
       "      <td>PC6771</td>\n",
       "      <td>1493734728</td>\n",
       "      <td>1493734728</td>\n",
       "      <td>0.059162</td>\n",
       "      <td>1493735288460</td>\n",
       "      <td>-0.0012</td>\n",
       "      <td>-0.0088</td>\n",
       "      <td>0.0172</td>\n",
       "      <td>1493735288</td>\n",
       "    </tr>\n",
       "    <tr>\n",
       "      <th>3</th>\n",
       "      <td>PC6771</td>\n",
       "      <td>1493734728</td>\n",
       "      <td>1493734728</td>\n",
       "      <td>0.059162</td>\n",
       "      <td>1493735288485</td>\n",
       "      <td>0.0033</td>\n",
       "      <td>-0.0048</td>\n",
       "      <td>0.0072</td>\n",
       "      <td>1493735288</td>\n",
       "    </tr>\n",
       "    <tr>\n",
       "      <th>4</th>\n",
       "      <td>PC6771</td>\n",
       "      <td>1493734728</td>\n",
       "      <td>1493734728</td>\n",
       "      <td>0.059162</td>\n",
       "      <td>1493735288510</td>\n",
       "      <td>0.0051</td>\n",
       "      <td>-0.0033</td>\n",
       "      <td>0.0135</td>\n",
       "      <td>1493735288</td>\n",
       "    </tr>\n",
       "    <tr>\n",
       "      <th>...</th>\n",
       "      <td>...</td>\n",
       "      <td>...</td>\n",
       "      <td>...</td>\n",
       "      <td>...</td>\n",
       "      <td>...</td>\n",
       "      <td>...</td>\n",
       "      <td>...</td>\n",
       "      <td>...</td>\n",
       "      <td>...</td>\n",
       "    </tr>\n",
       "    <tr>\n",
       "      <th>1445075</th>\n",
       "      <td>PC6771</td>\n",
       "      <td>1493802165</td>\n",
       "      <td>1493802165</td>\n",
       "      <td>0.000882</td>\n",
       "      <td>1493803979885</td>\n",
       "      <td>-0.0004</td>\n",
       "      <td>-0.001</td>\n",
       "      <td>0.014</td>\n",
       "      <td>1493803979</td>\n",
       "    </tr>\n",
       "    <tr>\n",
       "      <th>1445076</th>\n",
       "      <td>PC6771</td>\n",
       "      <td>1493802165</td>\n",
       "      <td>1493802165</td>\n",
       "      <td>0.000882</td>\n",
       "      <td>1493803979910</td>\n",
       "      <td>-0.0105</td>\n",
       "      <td>0.0007</td>\n",
       "      <td>-0.0022</td>\n",
       "      <td>1493803979</td>\n",
       "    </tr>\n",
       "    <tr>\n",
       "      <th>1445077</th>\n",
       "      <td>PC6771</td>\n",
       "      <td>1493802165</td>\n",
       "      <td>1493802165</td>\n",
       "      <td>0.000882</td>\n",
       "      <td>1493803979935</td>\n",
       "      <td>0.0045</td>\n",
       "      <td>-0.0011</td>\n",
       "      <td>0.0273</td>\n",
       "      <td>1493803979</td>\n",
       "    </tr>\n",
       "    <tr>\n",
       "      <th>1445078</th>\n",
       "      <td>PC6771</td>\n",
       "      <td>1493802165</td>\n",
       "      <td>1493802165</td>\n",
       "      <td>0.000882</td>\n",
       "      <td>1493803979960</td>\n",
       "      <td>0.0009</td>\n",
       "      <td>-0.0004</td>\n",
       "      <td>0.0199</td>\n",
       "      <td>1493803979</td>\n",
       "    </tr>\n",
       "    <tr>\n",
       "      <th>1445079</th>\n",
       "      <td>PC6771</td>\n",
       "      <td>1493802165</td>\n",
       "      <td>1493802165</td>\n",
       "      <td>0.000882</td>\n",
       "      <td>1493803979985</td>\n",
       "      <td>0.0048</td>\n",
       "      <td>-0.0019</td>\n",
       "      <td>0.0159</td>\n",
       "      <td>1493803979</td>\n",
       "    </tr>\n",
       "  </tbody>\n",
       "</table>\n",
       "<p>1444358 rows × 9 columns</p>\n",
       "</div>"
      ],
      "text/plain": [
       "            pid   tac_start     tac_end       tac       acc_time       x  \\\n",
       "0        PC6771  1493734728  1493734728  0.059162  1493735288409   0.004   \n",
       "1        PC6771  1493734728  1493734728  0.059162  1493735288435  0.0039   \n",
       "2        PC6771  1493734728  1493734728  0.059162  1493735288460 -0.0012   \n",
       "3        PC6771  1493734728  1493734728  0.059162  1493735288485  0.0033   \n",
       "4        PC6771  1493734728  1493734728  0.059162  1493735288510  0.0051   \n",
       "...         ...         ...         ...       ...            ...     ...   \n",
       "1445075  PC6771  1493802165  1493802165  0.000882  1493803979885 -0.0004   \n",
       "1445076  PC6771  1493802165  1493802165  0.000882  1493803979910 -0.0105   \n",
       "1445077  PC6771  1493802165  1493802165  0.000882  1493803979935  0.0045   \n",
       "1445078  PC6771  1493802165  1493802165  0.000882  1493803979960  0.0009   \n",
       "1445079  PC6771  1493802165  1493802165  0.000882  1493803979985  0.0048   \n",
       "\n",
       "              y       z acc_seconds  \n",
       "0       -0.0113  0.0051  1493735288  \n",
       "1       -0.0088  0.0171  1493735288  \n",
       "2       -0.0088  0.0172  1493735288  \n",
       "3       -0.0048  0.0072  1493735288  \n",
       "4       -0.0033  0.0135  1493735288  \n",
       "...         ...     ...         ...  \n",
       "1445075  -0.001   0.014  1493803979  \n",
       "1445076  0.0007 -0.0022  1493803979  \n",
       "1445077 -0.0011  0.0273  1493803979  \n",
       "1445078 -0.0004  0.0199  1493803979  \n",
       "1445079 -0.0019  0.0159  1493803979  \n",
       "\n",
       "[1444358 rows x 9 columns]"
      ]
     },
     "execution_count": 50,
     "metadata": {},
     "output_type": "execute_result"
    }
   ],
   "source": [
    "# Combine the two dataframes based on tac time intervals \n",
    "\n",
    "x1 = (len(tac_timestamp1) - 1)\n",
    "\n",
    "for j in range(0, x1):\n",
    "    \n",
    "    start = tac_timestamp1[j] \n",
    "    end = tac_timestamp1[j+1] \n",
    "    \n",
    "    try:\n",
    "        # check if timestamp value exists in start-end range and \n",
    "        # use \"cr\" value for sublisting \n",
    "        cr = test['time_seconds'].between(start, end, inclusive='neither')\n",
    "        cr.to_list().index(True)\n",
    "        test_data2 = test\n",
    "        test_data2['includes'] = cr\n",
    "        test_data2 = test_data2.loc[test_data2['includes'] == True]\n",
    "\n",
    "        test_data2 = test_data2.assign(tac_start_2 = start)\n",
    "        test_data2 = test_data2.assign(tac_end_2 = end)\n",
    "        test_data2 = test_data2.assign(tac = tac_reading1[j])\n",
    "        \n",
    "        # Create the combined dataset\n",
    "        tdata2 = pd.DataFrame()\n",
    "        tdata2['pid'] = test_data2['pid']\n",
    "        tdata2['tac_start'] = test_data2['tac_start_2']\n",
    "        tdata2['tac_end'] = test_data2['tac_start_2']\n",
    "        tdata2['tac'] = test_data2['tac']\n",
    "        tdata2['acc_time'] = test_data2['time']\n",
    "        tdata2['x'] = test_data2['x']\n",
    "        tdata2['y'] = test_data2['y']\n",
    "        tdata2['z'] = test_data2['z']\n",
    "        tdata2['acc_seconds'] = test_data2['time'].apply(seconds)\n",
    "        \n",
    "        df1 = pd.concat(objs=[df1, tdata2])\n",
    "\n",
    "    except:\n",
    "        pass\n",
    "    \n",
    "df1"
   ]
  },
  {
   "cell_type": "markdown",
   "id": "ee434fc7",
   "metadata": {},
   "source": [
    "Classify tac value"
   ]
  },
  {
   "cell_type": "code",
   "execution_count": 51,
   "id": "3af54b4e",
   "metadata": {},
   "outputs": [
    {
     "data": {
      "text/html": [
       "<div>\n",
       "<style scoped>\n",
       "    .dataframe tbody tr th:only-of-type {\n",
       "        vertical-align: middle;\n",
       "    }\n",
       "\n",
       "    .dataframe tbody tr th {\n",
       "        vertical-align: top;\n",
       "    }\n",
       "\n",
       "    .dataframe thead th {\n",
       "        text-align: right;\n",
       "    }\n",
       "</style>\n",
       "<table border=\"1\" class=\"dataframe\">\n",
       "  <thead>\n",
       "    <tr style=\"text-align: right;\">\n",
       "      <th></th>\n",
       "      <th>pid</th>\n",
       "      <th>tac_start</th>\n",
       "      <th>tac_end</th>\n",
       "      <th>tac</th>\n",
       "      <th>acc_time</th>\n",
       "      <th>x</th>\n",
       "      <th>y</th>\n",
       "      <th>z</th>\n",
       "      <th>acc_seconds</th>\n",
       "    </tr>\n",
       "  </thead>\n",
       "  <tbody>\n",
       "    <tr>\n",
       "      <th>0</th>\n",
       "      <td>PC6771</td>\n",
       "      <td>1493734728</td>\n",
       "      <td>1493734728</td>\n",
       "      <td>0</td>\n",
       "      <td>1493735288409</td>\n",
       "      <td>0.004</td>\n",
       "      <td>-0.0113</td>\n",
       "      <td>0.0051</td>\n",
       "      <td>1493735288</td>\n",
       "    </tr>\n",
       "    <tr>\n",
       "      <th>1</th>\n",
       "      <td>PC6771</td>\n",
       "      <td>1493734728</td>\n",
       "      <td>1493734728</td>\n",
       "      <td>0</td>\n",
       "      <td>1493735288435</td>\n",
       "      <td>0.0039</td>\n",
       "      <td>-0.0088</td>\n",
       "      <td>0.0171</td>\n",
       "      <td>1493735288</td>\n",
       "    </tr>\n",
       "    <tr>\n",
       "      <th>2</th>\n",
       "      <td>PC6771</td>\n",
       "      <td>1493734728</td>\n",
       "      <td>1493734728</td>\n",
       "      <td>0</td>\n",
       "      <td>1493735288460</td>\n",
       "      <td>-0.0012</td>\n",
       "      <td>-0.0088</td>\n",
       "      <td>0.0172</td>\n",
       "      <td>1493735288</td>\n",
       "    </tr>\n",
       "    <tr>\n",
       "      <th>3</th>\n",
       "      <td>PC6771</td>\n",
       "      <td>1493734728</td>\n",
       "      <td>1493734728</td>\n",
       "      <td>0</td>\n",
       "      <td>1493735288485</td>\n",
       "      <td>0.0033</td>\n",
       "      <td>-0.0048</td>\n",
       "      <td>0.0072</td>\n",
       "      <td>1493735288</td>\n",
       "    </tr>\n",
       "    <tr>\n",
       "      <th>4</th>\n",
       "      <td>PC6771</td>\n",
       "      <td>1493734728</td>\n",
       "      <td>1493734728</td>\n",
       "      <td>0</td>\n",
       "      <td>1493735288510</td>\n",
       "      <td>0.0051</td>\n",
       "      <td>-0.0033</td>\n",
       "      <td>0.0135</td>\n",
       "      <td>1493735288</td>\n",
       "    </tr>\n",
       "  </tbody>\n",
       "</table>\n",
       "</div>"
      ],
      "text/plain": [
       "      pid   tac_start     tac_end  tac       acc_time       x       y       z  \\\n",
       "0  PC6771  1493734728  1493734728    0  1493735288409   0.004 -0.0113  0.0051   \n",
       "1  PC6771  1493734728  1493734728    0  1493735288435  0.0039 -0.0088  0.0171   \n",
       "2  PC6771  1493734728  1493734728    0  1493735288460 -0.0012 -0.0088  0.0172   \n",
       "3  PC6771  1493734728  1493734728    0  1493735288485  0.0033 -0.0048  0.0072   \n",
       "4  PC6771  1493734728  1493734728    0  1493735288510  0.0051 -0.0033  0.0135   \n",
       "\n",
       "  acc_seconds  \n",
       "0  1493735288  \n",
       "1  1493735288  \n",
       "2  1493735288  \n",
       "3  1493735288  \n",
       "4  1493735288  "
      ]
     },
     "execution_count": 51,
     "metadata": {},
     "output_type": "execute_result"
    }
   ],
   "source": [
    "df1['tac'] = df1['tac'].apply(threshold)\n",
    "df1.head()"
   ]
  },
  {
   "cell_type": "markdown",
   "id": "3fb08251",
   "metadata": {},
   "source": [
    "Drop irrelevant columns"
   ]
  },
  {
   "cell_type": "code",
   "execution_count": 52,
   "id": "f05bfef0",
   "metadata": {},
   "outputs": [
    {
     "data": {
      "text/html": [
       "<div>\n",
       "<style scoped>\n",
       "    .dataframe tbody tr th:only-of-type {\n",
       "        vertical-align: middle;\n",
       "    }\n",
       "\n",
       "    .dataframe tbody tr th {\n",
       "        vertical-align: top;\n",
       "    }\n",
       "\n",
       "    .dataframe thead th {\n",
       "        text-align: right;\n",
       "    }\n",
       "</style>\n",
       "<table border=\"1\" class=\"dataframe\">\n",
       "  <thead>\n",
       "    <tr style=\"text-align: right;\">\n",
       "      <th></th>\n",
       "      <th>x</th>\n",
       "      <th>y</th>\n",
       "      <th>z</th>\n",
       "    </tr>\n",
       "  </thead>\n",
       "  <tbody>\n",
       "    <tr>\n",
       "      <th>0</th>\n",
       "      <td>0.004</td>\n",
       "      <td>-0.0113</td>\n",
       "      <td>0.0051</td>\n",
       "    </tr>\n",
       "    <tr>\n",
       "      <th>1</th>\n",
       "      <td>0.0039</td>\n",
       "      <td>-0.0088</td>\n",
       "      <td>0.0171</td>\n",
       "    </tr>\n",
       "    <tr>\n",
       "      <th>2</th>\n",
       "      <td>-0.0012</td>\n",
       "      <td>-0.0088</td>\n",
       "      <td>0.0172</td>\n",
       "    </tr>\n",
       "    <tr>\n",
       "      <th>3</th>\n",
       "      <td>0.0033</td>\n",
       "      <td>-0.0048</td>\n",
       "      <td>0.0072</td>\n",
       "    </tr>\n",
       "    <tr>\n",
       "      <th>4</th>\n",
       "      <td>0.0051</td>\n",
       "      <td>-0.0033</td>\n",
       "      <td>0.0135</td>\n",
       "    </tr>\n",
       "  </tbody>\n",
       "</table>\n",
       "</div>"
      ],
      "text/plain": [
       "        x       y       z\n",
       "0   0.004 -0.0113  0.0051\n",
       "1  0.0039 -0.0088  0.0171\n",
       "2 -0.0012 -0.0088  0.0172\n",
       "3  0.0033 -0.0048  0.0072\n",
       "4  0.0051 -0.0033  0.0135"
      ]
     },
     "execution_count": 52,
     "metadata": {},
     "output_type": "execute_result"
    }
   ],
   "source": [
    "df1.drop(\"pid\", axis=1, inplace=True)\n",
    "df1.drop(\"tac_start\", axis=1, inplace=True)\n",
    "df1.drop(\"tac_end\", axis=1, inplace=True)\n",
    "df1.drop(\"acc_time\", axis=1, inplace=True)\n",
    "df1.drop(\"acc_seconds\", axis=1, inplace=True)\n",
    "df1.drop(\"tac\",axis=1, inplace = True)\n",
    "\n",
    "df1.head()"
   ]
  },
  {
   "cell_type": "code",
   "execution_count": 53,
   "id": "ac04212c",
   "metadata": {},
   "outputs": [
    {
     "data": {
      "text/plain": [
       "(400, 3)"
      ]
     },
     "execution_count": 53,
     "metadata": {},
     "output_type": "execute_result"
    }
   ],
   "source": [
    "# Dataset rows must be multiple of 20\n",
    "df1 = df1.head(400) \n",
    "df1.shape"
   ]
  },
  {
   "cell_type": "markdown",
   "id": "b7431da1",
   "metadata": {},
   "source": [
    "Transfrorm the Dataset to fit model input"
   ]
  },
  {
   "cell_type": "code",
   "execution_count": 54,
   "id": "000be46d",
   "metadata": {},
   "outputs": [],
   "source": [
    "def test_func(data, fs, hs):\n",
    "\n",
    "    frs = []\n",
    "    f = 3 #num of features\n",
    "    a = (len(data) - fs)\n",
    "\n",
    "    \n",
    "    for j in range(0, a, hs):\n",
    "        x = data['x'].values[j: j + fs]\n",
    "        y = data['y'].values[j: j + fs]\n",
    "        z = data['z'].values[j: j + fs]\n",
    "        frs.append([x, y, z])\n",
    "\n",
    "    # Bring the segments into a better shape\n",
    "    frs = np.asarray(frs).reshape(-1, fs, f)\n",
    "\n",
    "    return frs"
   ]
  },
  {
   "cell_type": "code",
   "execution_count": 55,
   "id": "0251d549",
   "metadata": {},
   "outputs": [
    {
     "data": {
      "text/plain": [
       "(200, 40)"
      ]
     },
     "execution_count": 55,
     "metadata": {},
     "output_type": "execute_result"
    }
   ],
   "source": [
    "fs, hs"
   ]
  },
  {
   "cell_type": "code",
   "execution_count": 56,
   "id": "170ba948",
   "metadata": {},
   "outputs": [],
   "source": [
    "scaler = StandardScaler()\n",
    "\n",
    "X_test = scaler.fit_transform(X)\n",
    "scaled_X_test = pd.DataFrame(data = X_test, columns = ['x', 'y', 'z'])\n",
    "X_t = test_func(scaled_X_test, fs, hs)"
   ]
  },
  {
   "cell_type": "code",
   "execution_count": 57,
   "id": "455f7342",
   "metadata": {},
   "outputs": [
    {
     "data": {
      "text/plain": [
       "(4815, 200, 3)"
      ]
     },
     "execution_count": 57,
     "metadata": {},
     "output_type": "execute_result"
    }
   ],
   "source": [
    "X_t.shape"
   ]
  },
  {
   "cell_type": "markdown",
   "id": "e4d8b773",
   "metadata": {},
   "source": [
    "Restore the model from scratch"
   ]
  },
  {
   "cell_type": "code",
   "execution_count": 58,
   "id": "85fda2d5",
   "metadata": {},
   "outputs": [
    {
     "name": "stdout",
     "output_type": "stream",
     "text": [
      "Model loaded successfully\n"
     ]
    }
   ],
   "source": [
    "# Load the model from json\n",
    "model = keras.models.model_from_json(open('model.json').read())\n",
    "\n",
    "# Load the weights\n",
    "model.load_weights('model.h5')\n",
    "\n",
    "print(\"Model loaded successfully\")"
   ]
  },
  {
   "cell_type": "markdown",
   "id": "935cabc4",
   "metadata": {},
   "source": [
    "Making Prediction"
   ]
  },
  {
   "cell_type": "code",
   "execution_count": 59,
   "id": "98284dde",
   "metadata": {},
   "outputs": [
    {
     "name": "stdout",
     "output_type": "stream",
     "text": [
      "151/151 [==============================] - 1s 5ms/step\n",
      "Drunk\n"
     ]
    }
   ],
   "source": [
    "modelp = model.predict(X_t)\n",
    "y_pr = np.argmax(modelp, axis=-1)\n",
    "#print(y_pr)\n",
    "\n",
    "tac_result = [y_pr[2]]\n",
    "\n",
    "if tac_result == 0:\n",
    "    print(\"Not Drunk\")\n",
    "else:\n",
    "    print(\"Drunk\")\n"
   ]
  },
  {
   "cell_type": "code",
   "execution_count": null,
   "id": "9358bf7c",
   "metadata": {},
   "outputs": [],
   "source": []
  }
 ],
 "metadata": {
  "kernelspec": {
   "display_name": "Python 3",
   "language": "python",
   "name": "python3"
  },
  "language_info": {
   "codemirror_mode": {
    "name": "ipython",
    "version": 3
   },
   "file_extension": ".py",
   "mimetype": "text/x-python",
   "name": "python",
   "nbconvert_exporter": "python",
   "pygments_lexer": "ipython3",
   "version": "3.8.8"
  }
 },
 "nbformat": 4,
 "nbformat_minor": 5
}
